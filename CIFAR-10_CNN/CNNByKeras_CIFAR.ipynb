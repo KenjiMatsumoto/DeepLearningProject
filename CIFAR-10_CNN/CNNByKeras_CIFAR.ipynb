{
 "cells": [
  {
   "cell_type": "code",
   "execution_count": 1,
   "metadata": {
    "colab": {
     "base_uri": "https://localhost:8080/",
     "height": 34
    },
    "colab_type": "code",
    "id": "NuK8D8gNHBin",
    "outputId": "1fc07559-23e3-42ed-a460-50a056d8dc21"
   },
   "outputs": [
    {
     "name": "stderr",
     "output_type": "stream",
     "text": [
      "Using TensorFlow backend.\n",
      "/Users/kokubun/.pyenv/versions/3.6.2/lib/python3.6/importlib/_bootstrap.py:205: RuntimeWarning: numpy.dtype size changed, may indicate binary incompatibility. Expected 96, got 88\n",
      "  return f(*args, **kwds)\n",
      "/Users/kokubun/.pyenv/versions/3.6.2/lib/python3.6/importlib/_bootstrap.py:205: RuntimeWarning: numpy.dtype size changed, may indicate binary incompatibility. Expected 96, got 88\n",
      "  return f(*args, **kwds)\n"
     ]
    }
   ],
   "source": [
    "# import \n",
    "from keras.datasets import cifar10\n",
    "from sklearn.model_selection import train_test_split\n",
    "from keras.models import Model\n",
    "from keras.layers import Conv2D, MaxPooling2D, Dropout, Input, Dense, Flatten\n",
    "from keras.optimizers import Adam\n",
    "from keras.losses import categorical_crossentropy\n",
    "from keras.utils import to_categorical\n",
    "import argparse\n",
    "import numpy as np"
   ]
  },
  {
   "cell_type": "code",
   "execution_count": 6,
   "metadata": {
    "colab": {},
    "colab_type": "code",
    "id": "K-XpfqR_HBis"
   },
   "outputs": [],
   "source": [
    "# model作成 CNNByChainerと同じ層構成にする\n",
    "def create_CNN_model(input_shape=(32, 32, 3), class_num=10):\n",
    "    input = Input((32, 32, 3))\n",
    "    kernel_size = (3, 3)\n",
    "    max_pool_size = (2, 2)\n",
    "    # 畳み込み層の実装\n",
    "    # 1層目\n",
    "    cnn = Conv2D(32, kernel_size=kernel_size, padding='same', strides=(1, 1), activation='relu', input_shape=(32, 32, 3))(input)\n",
    "    cnn = MaxPooling2D(pool_size=max_pool_size, strides=(2, 2))(cnn)\n",
    "    cnn = Conv2D(64, kernel_size, padding='same', strides=(1, 1), activation='relu')(cnn)\n",
    "    cnn = MaxPooling2D(pool_size=max_pool_size, strides=(2, 2))(cnn)\n",
    "    cnn = Conv2D(128, kernel_size, padding='same', strides=(1, 1), activation='relu')(cnn)\n",
    "    cnn = MaxPooling2D(pool_size=max_pool_size, strides=(2, 2))(cnn)\n",
    "    cnn = Conv2D(256, kernel_size, padding='same', strides=(1, 1), activation='relu')(cnn)\n",
    "    cnn = MaxPooling2D(pool_size=max_pool_size, strides=(2, 2))(cnn)\n",
    "    cnn = Conv2D(256, kernel_size, padding='same', strides=(1, 1), activation='relu')(cnn)\n",
    "    # 入力を平滑化する層（いわゆるデータをフラット化する層、例えば4次元配列を1次元配列に変換するなど）\n",
    "    fc = Flatten()(cnn)\n",
    "    # denseは全結合層\n",
    "    fc = Dense(1000, activation='relu')(fc)\n",
    "    softmax = Dense(10, activation='softmax')(fc)\n",
    "    model = Model(input=input, output=softmax)\n",
    "    \n",
    "    return model\n",
    "\n",
    "def train():\n",
    "\n",
    "    model = create_CNN_model()\n",
    "    # cifar10のデータ取得\n",
    "    (x_train, y_train), (x_test, y_test) = cifar10.load_data()\n",
    "    x_train1, x_valid, y_train1, y_valid = train_test_split(x_train, y_train, test_size=0.2)\n",
    "    # RGB画像で32×32なので32×32×3にreshapeする\n",
    "    x_train = x_train.reshape(x_train.shape[0], 32, 32, 3)\n",
    "    x_valid = x_valid.reshape(x_valid.shape[0], 32, 32, 3)\n",
    "    x_test = x_test.reshape(x_test.shape[0], 32, 32, 3)\n",
    "    \n",
    "    x_train = x_train.astype('float32')\n",
    "    x_valid = x_valid.astype('float32')\n",
    "    x_test = x_test.astype('float32')\n",
    "    x_train /= 255\n",
    "    x_valid /= 255\n",
    "    x_test /= 255\n",
    "\n",
    "    # one-hot vector形式に変換する\n",
    "    y_train = to_categorical(y_train, 10)\n",
    "    y_valid = to_categorical(y_valid, 10)\n",
    "    y_test = to_categorical(y_test, 10)\n",
    "    \n",
    "    model.compile(loss=categorical_crossentropy,\n",
    "                  optimizer=Adam(),  metrics=['accuracy'])\n",
    "    # 学習\n",
    "    model.fit(x_train, y_train, epochs=20, batch_size=128, verbose=1, validation_data=(x_valid, y_valid))\n",
    "    # 精度算出\n",
    "    score = model.evaluate(x_test, y_test, verbose=0)\n",
    "    print('Test loss:', score[0])\n",
    "    print('Test accuracy:', score[1])"
   ]
  },
  {
   "cell_type": "code",
   "execution_count": 3,
   "metadata": {
    "colab": {
     "base_uri": "https://localhost:8080/",
     "height": 799
    },
    "colab_type": "code",
    "id": "BIWrdpWRHBiu",
    "outputId": "9e12c83c-1dfa-441c-c027-4ae83b1367e6"
   },
   "outputs": [
    {
     "name": "stderr",
     "output_type": "stream",
     "text": [
      "/usr/local/lib/python3.6/dist-packages/ipykernel_launcher.py:19: UserWarning: Update your `Model` call to the Keras 2 API: `Model(inputs=Tensor(\"in..., outputs=Tensor(\"de...)`\n"
     ]
    },
    {
     "name": "stdout",
     "output_type": "stream",
     "text": [
      "Downloading data from https://www.cs.toronto.edu/~kriz/cifar-10-python.tar.gz\n",
      "170500096/170498071 [==============================] - 40s 0us/step\n",
      "Train on 50000 samples, validate on 8750 samples\n",
      "Epoch 1/20\n",
      "50000/50000 [==============================] - 14s 289us/step - loss: 2.3408 - acc: 0.0975 - val_loss: 2.3147 - val_acc: 0.1029\n",
      "Epoch 2/20\n",
      "50000/50000 [==============================] - 10s 194us/step - loss: 2.2309 - acc: 0.1474 - val_loss: 2.0678 - val_acc: 0.2419\n",
      "Epoch 3/20\n",
      "50000/50000 [==============================] - 10s 195us/step - loss: 1.9541 - acc: 0.2811 - val_loss: 1.8886 - val_acc: 0.3104\n",
      "Epoch 4/20\n",
      "50000/50000 [==============================] - 10s 194us/step - loss: 1.7556 - acc: 0.3611 - val_loss: 1.6408 - val_acc: 0.4024\n",
      "Epoch 5/20\n",
      "50000/50000 [==============================] - 10s 195us/step - loss: 1.6027 - acc: 0.4229 - val_loss: 1.5218 - val_acc: 0.4562\n",
      "Epoch 6/20\n",
      "50000/50000 [==============================] - 10s 194us/step - loss: 1.4950 - acc: 0.4635 - val_loss: 1.4357 - val_acc: 0.4818\n",
      "Epoch 7/20\n",
      "50000/50000 [==============================] - 10s 194us/step - loss: 1.4156 - acc: 0.4918 - val_loss: 1.3523 - val_acc: 0.5125\n",
      "Epoch 8/20\n",
      "50000/50000 [==============================] - 10s 194us/step - loss: 1.3575 - acc: 0.5132 - val_loss: 1.3085 - val_acc: 0.5311\n",
      "Epoch 9/20\n",
      "50000/50000 [==============================] - 10s 194us/step - loss: 1.3094 - acc: 0.5311 - val_loss: 1.2718 - val_acc: 0.5451\n",
      "Epoch 10/20\n",
      "50000/50000 [==============================] - 10s 194us/step - loss: 1.2629 - acc: 0.5486 - val_loss: 1.2342 - val_acc: 0.5607\n",
      "Epoch 11/20\n",
      "50000/50000 [==============================] - 10s 194us/step - loss: 1.2174 - acc: 0.5665 - val_loss: 1.1697 - val_acc: 0.5841\n",
      "Epoch 12/20\n",
      "50000/50000 [==============================] - 10s 193us/step - loss: 1.1735 - acc: 0.5825 - val_loss: 1.1372 - val_acc: 0.5983\n",
      "Epoch 13/20\n",
      "50000/50000 [==============================] - 10s 194us/step - loss: 1.1340 - acc: 0.5965 - val_loss: 1.0816 - val_acc: 0.6117\n",
      "Epoch 14/20\n",
      "50000/50000 [==============================] - 10s 193us/step - loss: 1.0855 - acc: 0.6146 - val_loss: 1.0371 - val_acc: 0.6301\n",
      "Epoch 15/20\n",
      "50000/50000 [==============================] - 10s 194us/step - loss: 1.0424 - acc: 0.6306 - val_loss: 0.9877 - val_acc: 0.6515\n",
      "Epoch 16/20\n",
      "50000/50000 [==============================] - 10s 194us/step - loss: 0.9888 - acc: 0.6492 - val_loss: 0.9130 - val_acc: 0.6793\n",
      "Epoch 17/20\n",
      "50000/50000 [==============================] - 10s 194us/step - loss: 0.9342 - acc: 0.6710 - val_loss: 0.8707 - val_acc: 0.6963\n",
      "Epoch 18/20\n",
      "50000/50000 [==============================] - 10s 193us/step - loss: 0.8811 - acc: 0.6911 - val_loss: 0.8041 - val_acc: 0.7191\n",
      "Epoch 19/20\n",
      "50000/50000 [==============================] - 10s 193us/step - loss: 0.8216 - acc: 0.7132 - val_loss: 0.7319 - val_acc: 0.7499\n",
      "Epoch 20/20\n",
      "50000/50000 [==============================] - 10s 195us/step - loss: 0.7610 - acc: 0.7352 - val_loss: 0.7023 - val_acc: 0.7569\n",
      "Test loss: 1.1993175721168519\n",
      "Test accuracy: 0.5971\n"
     ]
    }
   ],
   "source": [
    "train()"
   ]
  },
  {
   "cell_type": "code",
   "execution_count": null,
   "metadata": {
    "colab": {},
    "colab_type": "code",
    "id": "04z5Cfe2HBiz"
   },
   "outputs": [],
   "source": []
  }
 ],
 "metadata": {
  "accelerator": "GPU",
  "colab": {
   "name": "CNNByKeras_CIFAR.ipynb",
   "provenance": [],
   "version": "0.3.2"
  },
  "kernelspec": {
   "display_name": "Python 3",
   "language": "python",
   "name": "python3"
  },
  "language_info": {
   "codemirror_mode": {
    "name": "ipython",
    "version": 3
   },
   "file_extension": ".py",
   "mimetype": "text/x-python",
   "name": "python",
   "nbconvert_exporter": "python",
   "pygments_lexer": "ipython3",
   "version": "3.6.2"
  }
 },
 "nbformat": 4,
 "nbformat_minor": 2
}
