{
  "nbformat": 4,
  "nbformat_minor": 0,
  "metadata": {
    "colab": {
      "name": "CNNByKeras_CIFAR.ipynb",
      "version": "0.3.2",
      "provenance": []
    },
    "kernelspec": {
      "display_name": "Python 3",
      "language": "python",
      "name": "python3"
    },
    "accelerator": "GPU"
  },
  "cells": [
    {
      "metadata": {
        "colab_type": "code",
        "id": "NuK8D8gNHBin",
        "outputId": "509bc2b9-9025-409e-c177-777a5f95aae4",
        "colab": {
          "base_uri": "https://localhost:8080/",
          "height": 34
        }
      },
      "cell_type": "code",
      "source": [
        "# import \n",
        "from keras.datasets import cifar10\n",
        "from sklearn.model_selection import train_test_split\n",
        "from keras.models import Model\n",
        "from keras.layers import Conv2D, MaxPooling2D, AveragePooling2D, Dropout, Input, Dense, Flatten, BatchNormalization, Activation, add\n",
        "from keras.optimizers import Adam\n",
        "from keras.losses import categorical_crossentropy\n",
        "from keras.utils import to_categorical\n",
        "import argparse\n",
        "import numpy as np"
      ],
      "execution_count": 1,
      "outputs": [
        {
          "output_type": "stream",
          "text": [
            "Using TensorFlow backend.\n"
          ],
          "name": "stderr"
        }
      ]
    },
    {
      "metadata": {
        "colab_type": "code",
        "id": "K-XpfqR_HBis",
        "colab": {}
      },
      "cell_type": "code",
      "source": [
        "def create_CNN_model(input_shape=(32, 32, 3), class_num=10):\n",
        "    input = Input((32, 32, 3))\n",
        "    kernel_size = (3, 3)\n",
        "    max_pool_size = (2, 2)\n",
        "    # 畳み込み層の実装\n",
        "    # 1層目\n",
        "    cnn = Conv2D(32, kernel_size=kernel_size, padding='same', strides=(1, 1), activation='relu', input_shape=(32, 32, 3))(input)\n",
        "    cnn = MaxPooling2D(pool_size=max_pool_size, strides=(2, 2))(cnn)\n",
        "    cnn = Conv2D(64, kernel_size, padding='same', strides=(1, 1), activation='relu')(cnn)\n",
        "    cnn = MaxPooling2D(pool_size=max_pool_size, strides=(2, 2))(cnn)\n",
        "    cnn = Dropout(0.25)(cnn)\n",
        "    cnn = Conv2D(128, kernel_size, padding='same', strides=(1, 1), activation='relu')(cnn)\n",
        "    cnn = MaxPooling2D(pool_size=max_pool_size, strides=(2, 2))(cnn)\n",
        "    cnn = Conv2D(256, kernel_size, padding='same', strides=(1, 1), activation='relu')(cnn)\n",
        "    cnn = MaxPooling2D(pool_size=max_pool_size, strides=(2, 2))(cnn)\n",
        "    cnn = Dropout(0.25)(cnn)\n",
        "    cnn = Conv2D(256, kernel_size, padding='same', strides=(1, 1), activation='relu')(cnn)\n",
        "    # 入力を平滑化する層（いわゆるデータをフラット化する層、例えば4次元配列を1次元配列に変換するなど）\n",
        "    fc = Flatten()(cnn)\n",
        "    # denseは全結合層\n",
        "    fc = Dense(1000, activation='relu')(fc)\n",
        "    fc = Dropout(0.5)(fc)\n",
        "    softmax = Dense(10, activation='softmax')(fc)\n",
        "    model = Model(input=input, output=softmax)\n",
        "    \n",
        "    return model\n",
        "\n",
        "def train():\n",
        "\n",
        "    model = create_CNN_model()\n",
        "    # cifar10のデータ取得\n",
        "    (x_train, y_train), (x_test, y_test) = cifar10.load_data()\n",
        "    x_train1, x_valid, y_train1, y_valid = train_test_split(x_train, y_train, test_size=0.2)\n",
        "    # RGB画像で32×32なので32×32×3にreshapeする\n",
        "    x_train = x_train.reshape(x_train.shape[0], 32, 32, 3)\n",
        "    x_valid = x_valid.reshape(x_valid.shape[0], 32, 32, 3)\n",
        "    x_test = x_test.reshape(x_test.shape[0], 32, 32, 3)\n",
        "    \n",
        "    x_train = x_train.astype('float32')\n",
        "    x_valid = x_valid.astype('float32')\n",
        "    x_test = x_test.astype('float32')\n",
        "    x_train /= 255\n",
        "    x_valid /= 255\n",
        "    x_test /= 255\n",
        "\n",
        "    # one-hot vector形式に変換する\n",
        "    y_train = to_categorical(y_train, 10)\n",
        "    y_valid = to_categorical(y_valid, 10)\n",
        "    y_test = to_categorical(y_test, 10)\n",
        "    \n",
        "    model.compile(loss=categorical_crossentropy,\n",
        "                  optimizer=Adam(),  metrics=['accuracy'])\n",
        "    # 学習\n",
        "    model.fit(x_train, y_train, epochs=40, batch_size=128, verbose=1, validation_data=(x_valid, y_valid))\n",
        "    # 精度算出\n",
        "    score = model.evaluate(x_test, y_test, verbose=0)\n",
        "    print('Test loss:', score[0])\n",
        "    print('Test accuracy:', score[1])"
      ],
      "execution_count": 0,
      "outputs": []
    },
    {
      "metadata": {
        "colab_type": "code",
        "id": "BIWrdpWRHBiu",
        "outputId": "7cd2bc9f-789e-49be-a2af-7404f91226be",
        "colab": {
          "base_uri": "https://localhost:8080/",
          "height": 1479
        }
      },
      "cell_type": "code",
      "source": [
        "train()"
      ],
      "execution_count": 3,
      "outputs": [
        {
          "output_type": "stream",
          "text": [
            "/usr/local/lib/python3.6/dist-packages/ipykernel_launcher.py:24: UserWarning: Update your `Model` call to the Keras 2 API: `Model(inputs=Tensor(\"in..., outputs=Tensor(\"de...)`\n"
          ],
          "name": "stderr"
        },
        {
          "output_type": "stream",
          "text": [
            "Downloading data from https://www.cs.toronto.edu/~kriz/cifar-10-python.tar.gz\n",
            "170500096/170498071 [==============================] - 27s 0us/step\n",
            "Train on 50000 samples, validate on 10000 samples\n",
            "Epoch 1/40\n",
            "50000/50000 [==============================] - 17s 335us/step - loss: 1.6595 - acc: 0.3770 - val_loss: 1.2747 - val_acc: 0.5328\n",
            "Epoch 2/40\n",
            "50000/50000 [==============================] - 12s 238us/step - loss: 1.2278 - acc: 0.5576 - val_loss: 1.0512 - val_acc: 0.6262\n",
            "Epoch 3/40\n",
            "50000/50000 [==============================] - 12s 237us/step - loss: 1.0145 - acc: 0.6388 - val_loss: 0.8183 - val_acc: 0.7041\n",
            "Epoch 4/40\n",
            "50000/50000 [==============================] - 12s 237us/step - loss: 0.8962 - acc: 0.6847 - val_loss: 0.7031 - val_acc: 0.7570\n",
            "Epoch 5/40\n",
            "50000/50000 [==============================] - 12s 238us/step - loss: 0.7995 - acc: 0.7170 - val_loss: 0.6211 - val_acc: 0.7850\n",
            "Epoch 6/40\n",
            "50000/50000 [==============================] - 12s 238us/step - loss: 0.7320 - acc: 0.7440 - val_loss: 0.5139 - val_acc: 0.8262\n",
            "Epoch 7/40\n",
            "50000/50000 [==============================] - 12s 241us/step - loss: 0.6800 - acc: 0.7611 - val_loss: 0.5072 - val_acc: 0.8263\n",
            "Epoch 8/40\n",
            "50000/50000 [==============================] - 12s 240us/step - loss: 0.6278 - acc: 0.7794 - val_loss: 0.4623 - val_acc: 0.8411\n",
            "Epoch 9/40\n",
            "50000/50000 [==============================] - 12s 238us/step - loss: 0.5908 - acc: 0.7927 - val_loss: 0.3794 - val_acc: 0.8739\n",
            "Epoch 10/40\n",
            "50000/50000 [==============================] - 12s 241us/step - loss: 0.5609 - acc: 0.8017 - val_loss: 0.3654 - val_acc: 0.8759\n",
            "Epoch 11/40\n",
            "50000/50000 [==============================] - 12s 240us/step - loss: 0.5239 - acc: 0.8159 - val_loss: 0.3265 - val_acc: 0.8894\n",
            "Epoch 12/40\n",
            "50000/50000 [==============================] - 12s 239us/step - loss: 0.4933 - acc: 0.8272 - val_loss: 0.3459 - val_acc: 0.8799\n",
            "Epoch 13/40\n",
            "50000/50000 [==============================] - 12s 238us/step - loss: 0.4666 - acc: 0.8350 - val_loss: 0.2655 - val_acc: 0.9136\n",
            "Epoch 14/40\n",
            "50000/50000 [==============================] - 12s 241us/step - loss: 0.4436 - acc: 0.8429 - val_loss: 0.2460 - val_acc: 0.9227\n",
            "Epoch 15/40\n",
            "50000/50000 [==============================] - 12s 242us/step - loss: 0.4231 - acc: 0.8498 - val_loss: 0.2534 - val_acc: 0.9182\n",
            "Epoch 16/40\n",
            "50000/50000 [==============================] - 12s 240us/step - loss: 0.4011 - acc: 0.8556 - val_loss: 0.2158 - val_acc: 0.9332\n",
            "Epoch 17/40\n",
            "50000/50000 [==============================] - 12s 240us/step - loss: 0.3925 - acc: 0.8583 - val_loss: 0.1851 - val_acc: 0.9478\n",
            "Epoch 18/40\n",
            "50000/50000 [==============================] - 12s 241us/step - loss: 0.3753 - acc: 0.8681 - val_loss: 0.1879 - val_acc: 0.9381\n",
            "Epoch 19/40\n",
            "50000/50000 [==============================] - 12s 239us/step - loss: 0.3615 - acc: 0.8721 - val_loss: 0.1782 - val_acc: 0.9477\n",
            "Epoch 20/40\n",
            "50000/50000 [==============================] - 12s 239us/step - loss: 0.3497 - acc: 0.8762 - val_loss: 0.1533 - val_acc: 0.9557\n",
            "Epoch 21/40\n",
            "50000/50000 [==============================] - 12s 239us/step - loss: 0.3389 - acc: 0.8801 - val_loss: 0.1405 - val_acc: 0.9581\n",
            "Epoch 22/40\n",
            "50000/50000 [==============================] - 12s 239us/step - loss: 0.3255 - acc: 0.8850 - val_loss: 0.1285 - val_acc: 0.9628\n",
            "Epoch 23/40\n",
            "50000/50000 [==============================] - 12s 239us/step - loss: 0.3110 - acc: 0.8885 - val_loss: 0.1250 - val_acc: 0.9635\n",
            "Epoch 24/40\n",
            "50000/50000 [==============================] - 12s 238us/step - loss: 0.3136 - acc: 0.8892 - val_loss: 0.1266 - val_acc: 0.9656\n",
            "Epoch 25/40\n",
            "50000/50000 [==============================] - 12s 240us/step - loss: 0.2899 - acc: 0.8971 - val_loss: 0.1007 - val_acc: 0.9721\n",
            "Epoch 26/40\n",
            "50000/50000 [==============================] - 12s 239us/step - loss: 0.2882 - acc: 0.8982 - val_loss: 0.1041 - val_acc: 0.9731\n",
            "Epoch 27/40\n",
            "50000/50000 [==============================] - 12s 240us/step - loss: 0.2860 - acc: 0.8987 - val_loss: 0.1149 - val_acc: 0.9660\n",
            "Epoch 28/40\n",
            "50000/50000 [==============================] - 12s 239us/step - loss: 0.2778 - acc: 0.9012 - val_loss: 0.1186 - val_acc: 0.9637\n",
            "Epoch 29/40\n",
            "50000/50000 [==============================] - 12s 238us/step - loss: 0.2681 - acc: 0.9053 - val_loss: 0.0750 - val_acc: 0.9789\n",
            "Epoch 30/40\n",
            "50000/50000 [==============================] - 12s 239us/step - loss: 0.2679 - acc: 0.9050 - val_loss: 0.1063 - val_acc: 0.9692\n",
            "Epoch 31/40\n",
            "50000/50000 [==============================] - 12s 239us/step - loss: 0.2553 - acc: 0.9112 - val_loss: 0.0684 - val_acc: 0.9835\n",
            "Epoch 32/40\n",
            "50000/50000 [==============================] - 12s 240us/step - loss: 0.2602 - acc: 0.9095 - val_loss: 0.0599 - val_acc: 0.9859\n",
            "Epoch 33/40\n",
            "50000/50000 [==============================] - 12s 240us/step - loss: 0.2528 - acc: 0.9125 - val_loss: 0.0754 - val_acc: 0.9811\n",
            "Epoch 34/40\n",
            "50000/50000 [==============================] - 12s 239us/step - loss: 0.2436 - acc: 0.9157 - val_loss: 0.0641 - val_acc: 0.9855\n",
            "Epoch 35/40\n",
            "50000/50000 [==============================] - 12s 240us/step - loss: 0.2471 - acc: 0.9135 - val_loss: 0.0647 - val_acc: 0.9845\n",
            "Epoch 36/40\n",
            "50000/50000 [==============================] - 12s 241us/step - loss: 0.2386 - acc: 0.9169 - val_loss: 0.0690 - val_acc: 0.9808\n",
            "Epoch 37/40\n",
            "50000/50000 [==============================] - 12s 240us/step - loss: 0.2373 - acc: 0.9175 - val_loss: 0.0528 - val_acc: 0.9879\n",
            "Epoch 38/40\n",
            "50000/50000 [==============================] - 12s 240us/step - loss: 0.2269 - acc: 0.9203 - val_loss: 0.0592 - val_acc: 0.9841\n",
            "Epoch 39/40\n",
            "50000/50000 [==============================] - 12s 240us/step - loss: 0.2284 - acc: 0.9209 - val_loss: 0.0519 - val_acc: 0.9861\n",
            "Epoch 40/40\n",
            "50000/50000 [==============================] - 12s 242us/step - loss: 0.2258 - acc: 0.9213 - val_loss: 0.0697 - val_acc: 0.9805\n",
            "Test loss: 0.819049770116806\n",
            "Test accuracy: 0.7802\n"
          ],
          "name": "stdout"
        }
      ]
    },
    {
      "metadata": {
        "colab_type": "code",
        "id": "04z5Cfe2HBiz",
        "colab": {}
      },
      "cell_type": "code",
      "source": [
        ""
      ],
      "execution_count": 0,
      "outputs": []
    }
  ]
}