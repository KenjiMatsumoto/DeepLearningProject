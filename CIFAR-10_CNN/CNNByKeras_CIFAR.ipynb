{
  "nbformat": 4,
  "nbformat_minor": 0,
  "metadata": {
    "colab": {
      "name": "CNNByKeras_CIFAR.ipynb",
      "version": "0.3.2",
      "provenance": []
    },
    "kernelspec": {
      "display_name": "Python 3",
      "language": "python",
      "name": "python3"
    },
    "accelerator": "GPU"
  },
  "cells": [
    {
      "metadata": {
        "colab_type": "code",
        "id": "NuK8D8gNHBin",
        "outputId": "9546a55f-eec9-4108-df8b-e909937b9cf7",
        "colab": {
          "base_uri": "https://localhost:8080/",
          "height": 34
        }
      },
      "cell_type": "code",
      "source": [
        "# import \n",
        "from keras.datasets import cifar10\n",
        "from sklearn.model_selection import train_test_split\n",
        "from keras.models import Model\n",
        "from keras.layers import Conv2D, MaxPooling2D, Dropout, Input, Dense, Flatten\n",
        "from keras.optimizers import Adam\n",
        "from keras.losses import categorical_crossentropy\n",
        "from keras.utils import to_categorical\n",
        "import argparse\n",
        "import numpy as np"
      ],
      "execution_count": 1,
      "outputs": [
        {
          "output_type": "stream",
          "text": [
            "Using TensorFlow backend.\n"
          ],
          "name": "stderr"
        }
      ]
    },
    {
      "metadata": {
        "colab_type": "code",
        "id": "K-XpfqR_HBis",
        "colab": {}
      },
      "cell_type": "code",
      "source": [
        "# model作成 CNNByChainerと同じ層構成にする\n",
        "def create_CNN_model(input_shape=(32, 32, 3), class_num=10):\n",
        "    input = Input((32, 32, 3))\n",
        "    kernel_size = (3, 3)\n",
        "    max_pool_size = (2, 2)\n",
        "    # 畳み込み層の実装\n",
        "    # 1層目\n",
        "    cnn = Conv2D(32, kernel_size=kernel_size, padding='same', strides=(1, 1), activation='relu', input_shape=(32, 32, 3))(input)\n",
        "    cnn = MaxPooling2D(pool_size=max_pool_size, strides=(2, 2))(cnn)\n",
        "    cnn = Conv2D(64, kernel_size, padding='same', strides=(1, 1), activation='relu')(cnn)\n",
        "    cnn = MaxPooling2D(pool_size=max_pool_size, strides=(2, 2))(cnn)\n",
        "    cnn = Conv2D(128, kernel_size, padding='same', strides=(1, 1), activation='relu')(cnn)\n",
        "    cnn = MaxPooling2D(pool_size=max_pool_size, strides=(2, 2))(cnn)\n",
        "    cnn = Conv2D(256, kernel_size, padding='same', strides=(1, 1), activation='relu')(cnn)\n",
        "    cnn = MaxPooling2D(pool_size=max_pool_size, strides=(2, 2))(cnn)\n",
        "    cnn = Conv2D(256, kernel_size, padding='same', strides=(1, 1), activation='relu')(cnn)\n",
        "    # 入力を平滑化する層（いわゆるデータをフラット化する層、例えば4次元配列を1次元配列に変換するなど）\n",
        "    fc = Flatten()(cnn)\n",
        "    # denseは全結合層\n",
        "    fc = Dense(1000, activation='relu')(fc)\n",
        "    softmax = Dense(10, activation='softmax')(fc)\n",
        "    model = Model(input=input, output=softmax)\n",
        "    \n",
        "    return model\n",
        "\n",
        "def train():\n",
        "\n",
        "    model = create_CNN_model()\n",
        "    # cifar10のデータ取得\n",
        "    (x_train, y_train), (x_test, y_test) = cifar10.load_data()\n",
        "    x_train1, x_valid, y_train1, y_valid = train_test_split(x_train, y_train, test_size=0.2)\n",
        "    # RGB画像で32×32なので32×32×3にreshapeする\n",
        "    x_train = x_train.reshape(x_train.shape[0], 32, 32, 3)\n",
        "    x_valid = x_valid.reshape(x_valid.shape[0], 32, 32, 3)\n",
        "    x_test = x_test.reshape(x_test.shape[0], 32, 32, 3)\n",
        "    \n",
        "    x_train = x_train.astype('float32')\n",
        "    x_valid = x_valid.astype('float32')\n",
        "    x_test = x_test.astype('float32')\n",
        "    x_train /= 255\n",
        "    x_valid /= 255\n",
        "    x_test /= 255\n",
        "\n",
        "    # one-hot vector形式に変換する\n",
        "    y_train = to_categorical(y_train, 10)\n",
        "    y_valid = to_categorical(y_valid, 10)\n",
        "    y_test = to_categorical(y_test, 10)\n",
        "    \n",
        "    model.compile(loss=categorical_crossentropy,\n",
        "                  optimizer=Adam(),  metrics=['accuracy'])\n",
        "    # 学習\n",
        "    model.fit(x_train, y_train, epochs=20, batch_size=128, verbose=1, validation_data=(x_valid, y_valid))\n",
        "    # 精度算出\n",
        "    score = model.evaluate(x_test, y_test, verbose=0)\n",
        "    print('Test loss:', score[0])\n",
        "    print('Test accuracy:', score[1])"
      ],
      "execution_count": 0,
      "outputs": []
    },
    {
      "metadata": {
        "colab_type": "code",
        "id": "BIWrdpWRHBiu",
        "outputId": "44715642-f808-48fa-9630-20f981ef33a5",
        "colab": {
          "base_uri": "https://localhost:8080/",
          "height": 819
        }
      },
      "cell_type": "code",
      "source": [
        "train()"
      ],
      "execution_count": 3,
      "outputs": [
        {
          "output_type": "stream",
          "text": [
            "/usr/local/lib/python3.6/dist-packages/ipykernel_launcher.py:21: UserWarning: Update your `Model` call to the Keras 2 API: `Model(inputs=Tensor(\"in..., outputs=Tensor(\"de...)`\n"
          ],
          "name": "stderr"
        },
        {
          "output_type": "stream",
          "text": [
            "Downloading data from https://www.cs.toronto.edu/~kriz/cifar-10-python.tar.gz\n",
            "170500096/170498071 [==============================] - 16s 0us/step\n",
            "Train on 50000 samples, validate on 10000 samples\n",
            "Epoch 1/20\n",
            "50000/50000 [==============================] - 16s 321us/step - loss: 1.5183 - acc: 0.4318 - val_loss: 1.1900 - val_acc: 0.5656\n",
            "Epoch 2/20\n",
            "50000/50000 [==============================] - 11s 222us/step - loss: 1.0487 - acc: 0.6239 - val_loss: 0.8602 - val_acc: 0.6935\n",
            "Epoch 3/20\n",
            "50000/50000 [==============================] - 11s 222us/step - loss: 0.8335 - acc: 0.7046 - val_loss: 0.7027 - val_acc: 0.7549\n",
            "Epoch 4/20\n",
            "50000/50000 [==============================] - 11s 223us/step - loss: 0.6961 - acc: 0.7527 - val_loss: 0.5858 - val_acc: 0.7939\n",
            "Epoch 5/20\n",
            "50000/50000 [==============================] - 11s 223us/step - loss: 0.5801 - acc: 0.7938 - val_loss: 0.4475 - val_acc: 0.8431\n",
            "Epoch 6/20\n",
            "50000/50000 [==============================] - 11s 222us/step - loss: 0.4642 - acc: 0.8352 - val_loss: 0.3358 - val_acc: 0.8854\n",
            "Epoch 7/20\n",
            "50000/50000 [==============================] - 11s 226us/step - loss: 0.3841 - acc: 0.8633 - val_loss: 0.2746 - val_acc: 0.9077\n",
            "Epoch 8/20\n",
            "50000/50000 [==============================] - 11s 221us/step - loss: 0.3077 - acc: 0.8911 - val_loss: 0.1932 - val_acc: 0.9380\n",
            "Epoch 9/20\n",
            "50000/50000 [==============================] - 11s 220us/step - loss: 0.2457 - acc: 0.9133 - val_loss: 0.1940 - val_acc: 0.9356\n",
            "Epoch 10/20\n",
            "50000/50000 [==============================] - 11s 219us/step - loss: 0.1944 - acc: 0.9309 - val_loss: 0.1526 - val_acc: 0.9465\n",
            "Epoch 11/20\n",
            "50000/50000 [==============================] - 11s 220us/step - loss: 0.1686 - acc: 0.9404 - val_loss: 0.1089 - val_acc: 0.9629\n",
            "Epoch 12/20\n",
            "50000/50000 [==============================] - 11s 222us/step - loss: 0.1389 - acc: 0.9521 - val_loss: 0.1260 - val_acc: 0.9567\n",
            "Epoch 13/20\n",
            "50000/50000 [==============================] - 11s 222us/step - loss: 0.1195 - acc: 0.9579 - val_loss: 0.0627 - val_acc: 0.9780\n",
            "Epoch 14/20\n",
            "50000/50000 [==============================] - 11s 221us/step - loss: 0.1097 - acc: 0.9621 - val_loss: 0.0881 - val_acc: 0.9713\n",
            "Epoch 15/20\n",
            "50000/50000 [==============================] - 11s 221us/step - loss: 0.1008 - acc: 0.9655 - val_loss: 0.0601 - val_acc: 0.9797\n",
            "Epoch 16/20\n",
            "50000/50000 [==============================] - 11s 222us/step - loss: 0.0944 - acc: 0.9670 - val_loss: 0.0709 - val_acc: 0.9770\n",
            "Epoch 17/20\n",
            "50000/50000 [==============================] - 11s 221us/step - loss: 0.0920 - acc: 0.9693 - val_loss: 0.0578 - val_acc: 0.9805\n",
            "Epoch 18/20\n",
            "50000/50000 [==============================] - 11s 221us/step - loss: 0.0850 - acc: 0.9707 - val_loss: 0.0847 - val_acc: 0.9713\n",
            "Epoch 19/20\n",
            "50000/50000 [==============================] - 11s 221us/step - loss: 0.0782 - acc: 0.9741 - val_loss: 0.0460 - val_acc: 0.9854\n",
            "Epoch 20/20\n",
            "50000/50000 [==============================] - 11s 222us/step - loss: 0.0704 - acc: 0.9760 - val_loss: 0.0683 - val_acc: 0.9762\n",
            "Test loss: 1.5225904363632201\n",
            "Test accuracy: 0.7346\n"
          ],
          "name": "stdout"
        }
      ]
    },
    {
      "metadata": {
        "colab_type": "code",
        "id": "04z5Cfe2HBiz",
        "colab": {}
      },
      "cell_type": "code",
      "source": [
        ""
      ],
      "execution_count": 0,
      "outputs": []
    }
  ]
}