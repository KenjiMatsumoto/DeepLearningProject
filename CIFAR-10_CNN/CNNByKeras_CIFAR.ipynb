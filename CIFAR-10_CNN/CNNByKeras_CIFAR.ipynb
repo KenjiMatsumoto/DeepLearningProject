{
  "nbformat": 4,
  "nbformat_minor": 0,
  "metadata": {
    "colab": {
      "name": "CNNByKeras_CIFAR.ipynb",
      "version": "0.3.2",
      "provenance": []
    },
    "kernelspec": {
      "display_name": "Python 3",
      "language": "python",
      "name": "python3"
    },
    "accelerator": "GPU"
  },
  "cells": [
    {
      "metadata": {
        "colab_type": "code",
        "id": "NuK8D8gNHBin",
        "outputId": "5bd7471e-9367-450e-96e7-a993e75f360a",
        "colab": {
          "base_uri": "https://localhost:8080/",
          "height": 34
        }
      },
      "cell_type": "code",
      "source": [
        "# import \n",
        "from keras.datasets import cifar10\n",
        "from sklearn.model_selection import train_test_split\n",
        "from keras.models import Model\n",
        "from keras.layers import Conv2D, MaxPooling2D, Dropout, Input, Dense, Flatten\n",
        "from keras.optimizers import Adam\n",
        "from keras.losses import categorical_crossentropy\n",
        "from keras.utils import to_categorical\n",
        "import argparse\n",
        "import numpy as np"
      ],
      "execution_count": 1,
      "outputs": [
        {
          "output_type": "stream",
          "text": [
            "Using TensorFlow backend.\n"
          ],
          "name": "stderr"
        }
      ]
    },
    {
      "metadata": {
        "colab_type": "code",
        "id": "K-XpfqR_HBis",
        "colab": {}
      },
      "cell_type": "code",
      "source": [
        "# model作成 CNNByChainerと同じ層構成にする\n",
        "def create_CNN_model(input_shape=(32, 32, 3), class_num=10):\n",
        "    input = Input((32, 32, 3))\n",
        "    kernel_size = (3, 3)\n",
        "    max_pool_size = (2, 2)\n",
        "    # 畳み込み層の実装\n",
        "    # 1層目\n",
        "    cnn = Conv2D(32, kernel_size=kernel_size, padding='same', strides=(1, 1), activation='relu', input_shape=(32, 32, 3))(input)\n",
        "    cnn = MaxPooling2D(pool_size=max_pool_size, strides=(2, 2))(cnn)\n",
        "    cnn = Conv2D(64, kernel_size, padding='same', strides=(1, 1), activation='relu')(cnn)\n",
        "    cnn = MaxPooling2D(pool_size=max_pool_size, strides=(2, 2))(cnn)\n",
        "    cnn = Conv2D(128, kernel_size, padding='same', strides=(1, 1), activation='relu')(cnn)\n",
        "    cnn = MaxPooling2D(pool_size=max_pool_size, strides=(2, 2))(cnn)\n",
        "    cnn = Conv2D(256, kernel_size, padding='same', strides=(1, 1), activation='relu')(cnn)\n",
        "    cnn = MaxPooling2D(pool_size=max_pool_size, strides=(2, 2))(cnn)\n",
        "    cnn = Conv2D(256, kernel_size, padding='same', strides=(1, 1), activation='relu')(cnn)\n",
        "    # 入力を平滑化する層（いわゆるデータをフラット化する層、例えば4次元配列を1次元配列に変換するなど）\n",
        "    fc = Flatten()(cnn)\n",
        "    # denseは全結合層\n",
        "    fc = Dense(1000, activation='relu')(fc)\n",
        "    softmax = Dense(10, activation='softmax')(fc)\n",
        "    model = Model(input=input, output=softmax)\n",
        "    \n",
        "    return model\n",
        "\n",
        "def train():\n",
        "\n",
        "    model = create_CNN_model()\n",
        "    # cifar10のデータ取得\n",
        "    (x_train, y_train), (x_test, y_test) = cifar10.load_data()\n",
        "    x_train1, x_valid, y_train1, y_valid = train_test_split(x_train, y_train, test_size=0.2)\n",
        "    # RGB画像で32×32なので32×32×3にreshapeする\n",
        "    x_train = x_train.reshape(x_train.shape[0], 32, 32, 3)\n",
        "    x_valid = x_valid.reshape(x_valid.shape[0], 32, 32, 3)\n",
        "    x_test = x_test.reshape(x_test.shape[0], 32, 32, 3)\n",
        "    \n",
        "    x_train = x_train.astype('float32')\n",
        "    x_valid = x_valid.astype('float32')\n",
        "    x_test = x_test.astype('float32')\n",
        "    x_train /= 255\n",
        "    x_valid /= 255\n",
        "    x_test /= 255\n",
        "\n",
        "    # one-hot vector形式に変換する\n",
        "    y_train = to_categorical(y_train, 10)\n",
        "    y_valid = to_categorical(y_valid, 10)\n",
        "    y_test = to_categorical(y_test, 10)\n",
        "    \n",
        "    model.compile(loss=categorical_crossentropy,\n",
        "                  optimizer=Adam(),  metrics=['accuracy'])\n",
        "    # 学習\n",
        "    model.fit(x_train, y_train, epochs=40, batch_size=128, verbose=1, validation_data=(x_valid, y_valid))\n",
        "    # 精度算出\n",
        "    score = model.evaluate(x_test, y_test, verbose=0)\n",
        "    print('Test loss:', score[0])\n",
        "    print('Test accuracy:', score[1])"
      ],
      "execution_count": 0,
      "outputs": []
    },
    {
      "metadata": {
        "colab_type": "code",
        "id": "BIWrdpWRHBiu",
        "outputId": "d58793ae-7b70-47ad-bb3d-7ba3b752f46e",
        "colab": {
          "base_uri": "https://localhost:8080/",
          "height": 1499
        }
      },
      "cell_type": "code",
      "source": [
        "train()"
      ],
      "execution_count": 3,
      "outputs": [
        {
          "output_type": "stream",
          "text": [
            "/usr/local/lib/python3.6/dist-packages/ipykernel_launcher.py:21: UserWarning: Update your `Model` call to the Keras 2 API: `Model(inputs=Tensor(\"in..., outputs=Tensor(\"de...)`\n"
          ],
          "name": "stderr"
        },
        {
          "output_type": "stream",
          "text": [
            "Downloading data from https://www.cs.toronto.edu/~kriz/cifar-10-python.tar.gz\n",
            "170500096/170498071 [==============================] - 18s 0us/step\n",
            "Train on 50000 samples, validate on 10000 samples\n",
            "Epoch 1/40\n",
            "50000/50000 [==============================] - 16s 325us/step - loss: 1.5586 - acc: 0.4211 - val_loss: 1.2269 - val_acc: 0.5503\n",
            "Epoch 2/40\n",
            "50000/50000 [==============================] - 11s 221us/step - loss: 1.0683 - acc: 0.6171 - val_loss: 0.8828 - val_acc: 0.6771\n",
            "Epoch 3/40\n",
            "50000/50000 [==============================] - 11s 221us/step - loss: 0.8317 - acc: 0.7070 - val_loss: 0.6585 - val_acc: 0.7672\n",
            "Epoch 4/40\n",
            "50000/50000 [==============================] - 11s 222us/step - loss: 0.6879 - acc: 0.7544 - val_loss: 0.5569 - val_acc: 0.8068\n",
            "Epoch 5/40\n",
            "50000/50000 [==============================] - 11s 222us/step - loss: 0.5789 - acc: 0.7949 - val_loss: 0.4941 - val_acc: 0.8271\n",
            "Epoch 6/40\n",
            "50000/50000 [==============================] - 11s 222us/step - loss: 0.4797 - acc: 0.8308 - val_loss: 0.3760 - val_acc: 0.8699\n",
            "Epoch 7/40\n",
            "50000/50000 [==============================] - 11s 222us/step - loss: 0.3881 - acc: 0.8633 - val_loss: 0.3085 - val_acc: 0.8974\n",
            "Epoch 8/40\n",
            "50000/50000 [==============================] - 11s 224us/step - loss: 0.3119 - acc: 0.8900 - val_loss: 0.2297 - val_acc: 0.9201\n",
            "Epoch 9/40\n",
            "50000/50000 [==============================] - 11s 221us/step - loss: 0.2479 - acc: 0.9124 - val_loss: 0.1794 - val_acc: 0.9394\n",
            "Epoch 10/40\n",
            "50000/50000 [==============================] - 11s 221us/step - loss: 0.1971 - acc: 0.9308 - val_loss: 0.1250 - val_acc: 0.9580\n",
            "Epoch 11/40\n",
            "50000/50000 [==============================] - 11s 222us/step - loss: 0.1682 - acc: 0.9394 - val_loss: 0.1236 - val_acc: 0.9536\n",
            "Epoch 12/40\n",
            "50000/50000 [==============================] - 11s 222us/step - loss: 0.1449 - acc: 0.9495 - val_loss: 0.1054 - val_acc: 0.9645\n",
            "Epoch 13/40\n",
            "50000/50000 [==============================] - 11s 222us/step - loss: 0.1176 - acc: 0.9589 - val_loss: 0.0661 - val_acc: 0.9773\n",
            "Epoch 14/40\n",
            "50000/50000 [==============================] - 11s 223us/step - loss: 0.1103 - acc: 0.9618 - val_loss: 0.0610 - val_acc: 0.9797\n",
            "Epoch 15/40\n",
            "50000/50000 [==============================] - 11s 221us/step - loss: 0.1038 - acc: 0.9643 - val_loss: 0.0735 - val_acc: 0.9748\n",
            "Epoch 16/40\n",
            "50000/50000 [==============================] - 11s 221us/step - loss: 0.0883 - acc: 0.9700 - val_loss: 0.0992 - val_acc: 0.9665\n",
            "Epoch 17/40\n",
            "50000/50000 [==============================] - 11s 221us/step - loss: 0.0913 - acc: 0.9674 - val_loss: 0.0715 - val_acc: 0.9756\n",
            "Epoch 18/40\n",
            "50000/50000 [==============================] - 11s 221us/step - loss: 0.0932 - acc: 0.9682 - val_loss: 0.0483 - val_acc: 0.9841\n",
            "Epoch 19/40\n",
            "50000/50000 [==============================] - 11s 221us/step - loss: 0.0695 - acc: 0.9756 - val_loss: 0.0736 - val_acc: 0.9756\n",
            "Epoch 20/40\n",
            "50000/50000 [==============================] - 11s 221us/step - loss: 0.0737 - acc: 0.9752 - val_loss: 0.0492 - val_acc: 0.9828\n",
            "Epoch 21/40\n",
            "50000/50000 [==============================] - 11s 221us/step - loss: 0.0629 - acc: 0.9788 - val_loss: 0.0542 - val_acc: 0.9826\n",
            "Epoch 22/40\n",
            "50000/50000 [==============================] - 11s 221us/step - loss: 0.0753 - acc: 0.9742 - val_loss: 0.0817 - val_acc: 0.9733\n",
            "Epoch 23/40\n",
            "50000/50000 [==============================] - 11s 220us/step - loss: 0.0669 - acc: 0.9775 - val_loss: 0.0329 - val_acc: 0.9896\n",
            "Epoch 24/40\n",
            "50000/50000 [==============================] - 11s 221us/step - loss: 0.0592 - acc: 0.9803 - val_loss: 0.0323 - val_acc: 0.9904\n",
            "Epoch 25/40\n",
            "50000/50000 [==============================] - 11s 222us/step - loss: 0.0688 - acc: 0.9771 - val_loss: 0.0325 - val_acc: 0.9884\n",
            "Epoch 26/40\n",
            "50000/50000 [==============================] - 11s 222us/step - loss: 0.0622 - acc: 0.9792 - val_loss: 0.0311 - val_acc: 0.9883\n",
            "Epoch 27/40\n",
            "50000/50000 [==============================] - 11s 222us/step - loss: 0.0623 - acc: 0.9795 - val_loss: 0.0410 - val_acc: 0.9861\n",
            "Epoch 28/40\n",
            "50000/50000 [==============================] - 11s 223us/step - loss: 0.0575 - acc: 0.9812 - val_loss: 0.0583 - val_acc: 0.9787\n",
            "Epoch 29/40\n",
            "50000/50000 [==============================] - 11s 222us/step - loss: 0.0565 - acc: 0.9814 - val_loss: 0.0823 - val_acc: 0.9730\n",
            "Epoch 30/40\n",
            "50000/50000 [==============================] - 11s 222us/step - loss: 0.0531 - acc: 0.9817 - val_loss: 0.0368 - val_acc: 0.9871\n",
            "Epoch 31/40\n",
            "50000/50000 [==============================] - 11s 222us/step - loss: 0.0525 - acc: 0.9826 - val_loss: 0.0684 - val_acc: 0.9778\n",
            "Epoch 32/40\n",
            "50000/50000 [==============================] - 11s 222us/step - loss: 0.0554 - acc: 0.9820 - val_loss: 0.0552 - val_acc: 0.9799\n",
            "Epoch 33/40\n",
            "50000/50000 [==============================] - 11s 222us/step - loss: 0.0458 - acc: 0.9850 - val_loss: 0.0236 - val_acc: 0.9934\n",
            "Epoch 34/40\n",
            "50000/50000 [==============================] - 11s 222us/step - loss: 0.0555 - acc: 0.9816 - val_loss: 0.0285 - val_acc: 0.9904\n",
            "Epoch 35/40\n",
            "50000/50000 [==============================] - 11s 221us/step - loss: 0.0506 - acc: 0.9833 - val_loss: 0.0325 - val_acc: 0.9897\n",
            "Epoch 36/40\n",
            "50000/50000 [==============================] - 11s 221us/step - loss: 0.0459 - acc: 0.9846 - val_loss: 0.0607 - val_acc: 0.9802\n",
            "Epoch 37/40\n",
            "50000/50000 [==============================] - 11s 221us/step - loss: 0.0504 - acc: 0.9835 - val_loss: 0.0811 - val_acc: 0.9743\n",
            "Epoch 38/40\n",
            "50000/50000 [==============================] - 11s 220us/step - loss: 0.0489 - acc: 0.9841 - val_loss: 0.0389 - val_acc: 0.9879\n",
            "Epoch 39/40\n",
            "50000/50000 [==============================] - 11s 220us/step - loss: 0.0527 - acc: 0.9826 - val_loss: 0.0433 - val_acc: 0.9844\n",
            "Epoch 40/40\n",
            "50000/50000 [==============================] - 11s 220us/step - loss: 0.0420 - acc: 0.9857 - val_loss: 0.0483 - val_acc: 0.9846\n",
            "Test loss: 1.7839807258605958\n",
            "Test accuracy: 0.7372\n"
          ],
          "name": "stdout"
        }
      ]
    },
    {
      "metadata": {
        "colab_type": "code",
        "id": "04z5Cfe2HBiz",
        "colab": {}
      },
      "cell_type": "code",
      "source": [
        ""
      ],
      "execution_count": 0,
      "outputs": []
    }
  ]
}