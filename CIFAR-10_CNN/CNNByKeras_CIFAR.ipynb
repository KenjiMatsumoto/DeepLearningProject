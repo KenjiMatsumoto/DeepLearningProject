{
 "cells": [
  {
   "cell_type": "code",
   "execution_count": 1,
   "metadata": {
    "colab": {
     "base_uri": "https://localhost:8080/",
     "height": 34
    },
    "colab_type": "code",
    "id": "NuK8D8gNHBin",
    "outputId": "4fd1a1d8-4377-41c7-8f7d-0315b87e1c5d"
   },
   "outputs": [
    {
     "name": "stderr",
     "output_type": "stream",
     "text": [
      "Using TensorFlow backend.\n"
     ]
    }
   ],
   "source": [
    "# import \n",
    "from keras.datasets import cifar10\n",
    "from sklearn.model_selection import train_test_split\n",
    "from keras.models import Model\n",
    "from keras.layers import Conv2D, MaxPooling2D, Dropout, Input, Dense, Flatten\n",
    "from keras.optimizers import Adam\n",
    "from keras.losses import categorical_crossentropy\n",
    "from keras.utils import to_categorical\n",
    "import argparse\n",
    "import numpy as np"
   ]
  },
  {
   "cell_type": "code",
   "execution_count": null,
   "metadata": {
    "colab": {},
    "colab_type": "code",
    "id": "K-XpfqR_HBis"
   },
   "outputs": [],
   "source": [
    "# model作成 CNNByChainerと同じ層構成にする\n",
    "def create_CNN_model(input_shape=(32, 32, 3), class_num=10):\n",
    "    input = Input((32, 32, 3))\n",
    "    kernel_size = (3, 3)\n",
    "    max_pool_size = (2, 2)\n",
    "    # 畳み込み層の実装\n",
    "    # 1層目\n",
    "    cnn = Conv2D(32, kernel_size=kernel_size, padding='same', strides=(1, 1), activation='relu', input_shape=(32, 32, 3))(input)\n",
    "    cnn = MaxPooling2D(pool_size=max_pool_size, strides=(2, 2))(cnn)\n",
    "    cnn = Conv2D(64, kernel_size, padding='same', strides=(1, 1), activation='relu')(cnn)\n",
    "    cnn = MaxPooling2D(pool_size=max_pool_size, strides=(2, 2))(cnn)\n",
    "    cnn = Dropout(0.25)(cnn)\n",
    "    cnn = Conv2D(128, kernel_size, padding='same', strides=(1, 1), activation='relu')(cnn)\n",
    "    cnn = MaxPooling2D(pool_size=max_pool_size, strides=(2, 2))(cnn)\n",
    "    cnn = Conv2D(256, kernel_size, padding='same', strides=(1, 1), activation='relu')(cnn)\n",
    "    cnn = MaxPooling2D(pool_size=max_pool_size, strides=(2, 2))(cnn)\n",
    "    cnn = Dropout(0.25)(cnn)\n",
    "    cnn = Conv2D(256, kernel_size, padding='same', strides=(1, 1), activation='relu')(cnn)\n",
    "    # 入力を平滑化する層（いわゆるデータをフラット化する層、例えば4次元配列を1次元配列に変換するなど）\n",
    "    fc = Flatten()(cnn)\n",
    "    # denseは全結合層\n",
    "    fc = Dense(1000, activation='relu')(fc)\n",
    "    fc = Dropout(0.5)(fc)\n",
    "    softmax = Dense(10, activation='softmax')(fc)\n",
    "    model = Model(input=input, output=softmax)\n",
    "    \n",
    "    return model\n",
    "\n",
    "def train():\n",
    "\n",
    "    model = create_CNN_model()\n",
    "    # cifar10のデータ取得\n",
    "    (x_train, y_train), (x_test, y_test) = cifar10.load_data()\n",
    "    x_train1, x_valid, y_train1, y_valid = train_test_split(x_train, y_train, test_size=0.2)\n",
    "    # RGB画像で32×32なので32×32×3にreshapeする\n",
    "    x_train = x_train.reshape(x_train.shape[0], 32, 32, 3)\n",
    "    x_valid = x_valid.reshape(x_valid.shape[0], 32, 32, 3)\n",
    "    x_test = x_test.reshape(x_test.shape[0], 32, 32, 3)\n",
    "    \n",
    "    x_train = x_train.astype('float32')\n",
    "    x_valid = x_valid.astype('float32')\n",
    "    x_test = x_test.astype('float32')\n",
    "    x_train /= 255\n",
    "    x_valid /= 255\n",
    "    x_test /= 255\n",
    "\n",
    "    # one-hot vector形式に変換する\n",
    "    y_train = to_categorical(y_train, 10)\n",
    "    y_valid = to_categorical(y_valid, 10)\n",
    "    y_test = to_categorical(y_test, 10)\n",
    "    \n",
    "    model.compile(loss=categorical_crossentropy,\n",
    "                  optimizer=Adam(),  metrics=['accuracy'])\n",
    "    # 学習\n",
    "    model.fit(x_train, y_train, epochs=40, batch_size=128, verbose=1, validation_data=(x_valid, y_valid))\n",
    "    # 精度算出\n",
    "    score = model.evaluate(x_test, y_test, verbose=0)\n",
    "    print('Test loss:', score[0])\n",
    "    print('Test accuracy:', score[1])"
   ]
  },
  {
   "cell_type": "code",
   "execution_count": 5,
   "metadata": {
    "colab": {
     "base_uri": "https://localhost:8080/",
     "height": 1465
    },
    "colab_type": "code",
    "id": "BIWrdpWRHBiu",
    "outputId": "c1112c1c-159e-43bc-bcbe-f41363f2cb29"
   },
   "outputs": [
    {
     "name": "stderr",
     "output_type": "stream",
     "text": [
      "/usr/local/lib/python3.6/dist-packages/ipykernel_launcher.py:24: UserWarning: Update your `Model` call to the Keras 2 API: `Model(inputs=Tensor(\"in..., outputs=Tensor(\"de...)`\n"
     ]
    },
    {
     "name": "stdout",
     "output_type": "stream",
     "text": [
      "Train on 50000 samples, validate on 10000 samples\n",
      "Epoch 1/40\n",
      "50000/50000 [==============================] - 13s 250us/step - loss: 1.6596 - acc: 0.3746 - val_loss: 1.2663 - val_acc: 0.5294\n",
      "Epoch 2/40\n",
      "50000/50000 [==============================] - 12s 237us/step - loss: 1.2002 - acc: 0.5639 - val_loss: 1.0036 - val_acc: 0.6411\n",
      "Epoch 3/40\n",
      "50000/50000 [==============================] - 12s 236us/step - loss: 0.9965 - acc: 0.6464 - val_loss: 0.8183 - val_acc: 0.7098\n",
      "Epoch 4/40\n",
      "50000/50000 [==============================] - 12s 237us/step - loss: 0.8766 - acc: 0.6920 - val_loss: 0.7028 - val_acc: 0.7487\n",
      "Epoch 5/40\n",
      "50000/50000 [==============================] - 12s 235us/step - loss: 0.7963 - acc: 0.7208 - val_loss: 0.5867 - val_acc: 0.7983\n",
      "Epoch 6/40\n",
      "50000/50000 [==============================] - 12s 237us/step - loss: 0.7238 - acc: 0.7467 - val_loss: 0.5441 - val_acc: 0.8108\n",
      "Epoch 7/40\n",
      "50000/50000 [==============================] - 12s 238us/step - loss: 0.6717 - acc: 0.7650 - val_loss: 0.5090 - val_acc: 0.8240\n",
      "Epoch 8/40\n",
      "50000/50000 [==============================] - 12s 237us/step - loss: 0.6144 - acc: 0.7837 - val_loss: 0.4346 - val_acc: 0.8522\n",
      "Epoch 9/40\n",
      "50000/50000 [==============================] - 12s 237us/step - loss: 0.5804 - acc: 0.7968 - val_loss: 0.3987 - val_acc: 0.8696\n",
      "Epoch 10/40\n",
      "50000/50000 [==============================] - 12s 237us/step - loss: 0.5541 - acc: 0.8067 - val_loss: 0.3516 - val_acc: 0.8862\n",
      "Epoch 11/40\n",
      "50000/50000 [==============================] - 12s 237us/step - loss: 0.5165 - acc: 0.8179 - val_loss: 0.3140 - val_acc: 0.8979\n",
      "Epoch 12/40\n",
      "50000/50000 [==============================] - 12s 238us/step - loss: 0.4843 - acc: 0.8308 - val_loss: 0.2824 - val_acc: 0.9067\n",
      "Epoch 13/40\n",
      "50000/50000 [==============================] - 12s 238us/step - loss: 0.4644 - acc: 0.8369 - val_loss: 0.2535 - val_acc: 0.9183\n",
      "Epoch 14/40\n",
      "50000/50000 [==============================] - 12s 237us/step - loss: 0.4407 - acc: 0.8448 - val_loss: 0.2322 - val_acc: 0.9289\n",
      "Epoch 15/40\n",
      "50000/50000 [==============================] - 12s 238us/step - loss: 0.4122 - acc: 0.8540 - val_loss: 0.2469 - val_acc: 0.9203\n",
      "Epoch 16/40\n",
      "50000/50000 [==============================] - 12s 237us/step - loss: 0.4049 - acc: 0.8560 - val_loss: 0.2083 - val_acc: 0.9361\n",
      "Epoch 17/40\n",
      "50000/50000 [==============================] - 12s 237us/step - loss: 0.3852 - acc: 0.8618 - val_loss: 0.1766 - val_acc: 0.9547\n",
      "Epoch 18/40\n",
      "50000/50000 [==============================] - 12s 236us/step - loss: 0.3677 - acc: 0.8687 - val_loss: 0.1592 - val_acc: 0.9524\n",
      "Epoch 19/40\n",
      "50000/50000 [==============================] - 12s 236us/step - loss: 0.3549 - acc: 0.8760 - val_loss: 0.1723 - val_acc: 0.9482\n",
      "Epoch 20/40\n",
      "50000/50000 [==============================] - 12s 236us/step - loss: 0.3408 - acc: 0.8772 - val_loss: 0.1468 - val_acc: 0.9590\n",
      "Epoch 21/40\n",
      "50000/50000 [==============================] - 12s 237us/step - loss: 0.3267 - acc: 0.8845 - val_loss: 0.1306 - val_acc: 0.9633\n",
      "Epoch 22/40\n",
      "50000/50000 [==============================] - 12s 237us/step - loss: 0.3119 - acc: 0.8899 - val_loss: 0.1356 - val_acc: 0.9600\n",
      "Epoch 23/40\n",
      "50000/50000 [==============================] - 12s 236us/step - loss: 0.3052 - acc: 0.8913 - val_loss: 0.1238 - val_acc: 0.9651\n",
      "Epoch 24/40\n",
      "50000/50000 [==============================] - 12s 236us/step - loss: 0.2981 - acc: 0.8946 - val_loss: 0.1126 - val_acc: 0.9717\n",
      "Epoch 25/40\n",
      "50000/50000 [==============================] - 12s 237us/step - loss: 0.2869 - acc: 0.8982 - val_loss: 0.1070 - val_acc: 0.9716\n",
      "Epoch 26/40\n",
      "50000/50000 [==============================] - 12s 237us/step - loss: 0.2803 - acc: 0.8992 - val_loss: 0.0945 - val_acc: 0.9760\n",
      "Epoch 27/40\n",
      "50000/50000 [==============================] - 12s 237us/step - loss: 0.2817 - acc: 0.9008 - val_loss: 0.1015 - val_acc: 0.9733\n",
      "Epoch 28/40\n",
      "50000/50000 [==============================] - 12s 237us/step - loss: 0.2654 - acc: 0.9057 - val_loss: 0.0856 - val_acc: 0.9786\n",
      "Epoch 29/40\n",
      "50000/50000 [==============================] - 12s 237us/step - loss: 0.2640 - acc: 0.9063 - val_loss: 0.0690 - val_acc: 0.9842\n",
      "Epoch 30/40\n",
      "50000/50000 [==============================] - 12s 237us/step - loss: 0.2610 - acc: 0.9083 - val_loss: 0.0788 - val_acc: 0.9819\n",
      "Epoch 31/40\n",
      "50000/50000 [==============================] - 12s 236us/step - loss: 0.2539 - acc: 0.9115 - val_loss: 0.0670 - val_acc: 0.9868\n",
      "Epoch 32/40\n",
      "50000/50000 [==============================] - 12s 237us/step - loss: 0.2396 - acc: 0.9154 - val_loss: 0.0648 - val_acc: 0.9845\n",
      "Epoch 33/40\n",
      "50000/50000 [==============================] - 12s 236us/step - loss: 0.2420 - acc: 0.9145 - val_loss: 0.0670 - val_acc: 0.9817\n",
      "Epoch 34/40\n",
      "50000/50000 [==============================] - 12s 236us/step - loss: 0.2378 - acc: 0.9165 - val_loss: 0.0622 - val_acc: 0.9865\n",
      "Epoch 35/40\n",
      "50000/50000 [==============================] - 12s 237us/step - loss: 0.2354 - acc: 0.9183 - val_loss: 0.0652 - val_acc: 0.9840\n",
      "Epoch 36/40\n",
      "50000/50000 [==============================] - 12s 237us/step - loss: 0.2369 - acc: 0.9197 - val_loss: 0.0696 - val_acc: 0.9834\n",
      "Epoch 37/40\n",
      "50000/50000 [==============================] - 12s 237us/step - loss: 0.2277 - acc: 0.9205 - val_loss: 0.0727 - val_acc: 0.9799\n",
      "Epoch 38/40\n",
      "50000/50000 [==============================] - 12s 237us/step - loss: 0.2178 - acc: 0.9226 - val_loss: 0.0485 - val_acc: 0.9866\n",
      "Epoch 39/40\n",
      "50000/50000 [==============================] - 12s 238us/step - loss: 0.2190 - acc: 0.9242 - val_loss: 0.0646 - val_acc: 0.9809\n",
      "Epoch 40/40\n",
      "50000/50000 [==============================] - 12s 236us/step - loss: 0.2215 - acc: 0.9222 - val_loss: 0.0550 - val_acc: 0.9864\n",
      "Test loss: 0.8255806840360165\n",
      "Test accuracy: 0.7886\n"
     ]
    }
   ],
   "source": [
    "train()"
   ]
  },
  {
   "cell_type": "code",
   "execution_count": null,
   "metadata": {
    "colab": {},
    "colab_type": "code",
    "id": "04z5Cfe2HBiz"
   },
   "outputs": [],
   "source": []
  }
 ],
 "metadata": {
  "accelerator": "GPU",
  "colab": {
   "name": "CNNByKeras_CIFAR.ipynb",
   "provenance": [],
   "version": "0.3.2"
  },
  "kernelspec": {
   "display_name": "Python 3",
   "language": "python",
   "name": "python3"
  },
  "language_info": {
   "codemirror_mode": {
    "name": "ipython",
    "version": 3
   },
   "file_extension": ".py",
   "mimetype": "text/x-python",
   "name": "python",
   "nbconvert_exporter": "python",
   "pygments_lexer": "ipython3",
   "version": "3.6.5"
  }
 },
 "nbformat": 4,
 "nbformat_minor": 2
}
