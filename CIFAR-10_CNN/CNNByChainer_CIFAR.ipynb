{
  "nbformat": 4,
  "nbformat_minor": 0,
  "metadata": {
    "colab": {
      "name": "CNNByChainer_CIFAR.ipynb",
      "version": "0.3.2",
      "provenance": []
    },
    "kernelspec": {
      "name": "python3",
      "display_name": "Python 3"
    },
    "accelerator": "GPU"
  },
  "cells": [
    {
      "metadata": {
        "id": "yMmqIdCWErYi",
        "colab_type": "code",
        "colab": {
          "base_uri": "https://localhost:8080/",
          "height": 238
        },
        "outputId": "a4dd13f7-e07f-4c3c-b01f-1d29d3db8071"
      },
      "cell_type": "code",
      "source": [
        "# import\n",
        "%matplotlib inline\n",
        "# cupyのインストール\n",
        "!curl https://colab.chainer.org/install | sh -\n",
        "!pip install chutil\n",
        "import matplotlib.pyplot as plt\n",
        "import numpy as np\n",
        "import pandas as pd\n",
        "import seaborn as sns\n",
        "import chainer\n",
        "import chutil\n",
        "\n",
        "import chainer.functions as F\n",
        "import chainer.links as L\n",
        "from chainer import Chain\n",
        "import chainer.optimizers as optimizers\n",
        "\n",
        "from chainer.datasets.cifar import get_cifar10\n",
        "from chainer import optimizers, training\n",
        "from chainer.training import extensions"
      ],
      "execution_count": 9,
      "outputs": [
        {
          "output_type": "stream",
          "text": [
            "  % Total    % Received % Xferd  Average Speed   Time    Time     Time  Current\n",
            "                                 Dload  Upload   Total   Spent    Left  Speed\n",
            "\r  0     0    0     0    0     0      0      0 --:--:-- --:--:-- --:--:--     0\r100  1379  100  1379    0     0  11211      0 --:--:-- --:--:-- --:--:-- 11303\n",
            "+ apt -y -q install cuda-libraries-dev-9-2\n",
            "Reading package lists...\n",
            "Building dependency tree...\n",
            "Reading state information...\n",
            "cuda-libraries-dev-9-2 is already the newest version (9.2.148-1).\n",
            "0 upgraded, 0 newly installed, 0 to remove and 8 not upgraded.\n",
            "+ pip install -q cupy-cuda92  chainer \n",
            "+ set +ex\n",
            "Installation succeeded!\n",
            "Requirement already satisfied: chutil in /usr/local/lib/python3.6/dist-packages (0.1.4)\n"
          ],
          "name": "stdout"
        }
      ]
    },
    {
      "metadata": {
        "id": "MBVSHSXhErYn",
        "colab_type": "code",
        "colab": {}
      },
      "cell_type": "code",
      "source": [
        "# データセットのロード\n",
        "train, test = get_cifar10(withlabel=True, ndim=1)\n",
        "train, validation = chainer.datasets.split_dataset_random(train, 40000, seed=0)"
      ],
      "execution_count": 0,
      "outputs": []
    },
    {
      "metadata": {
        "id": "-5ijD3MNErYp",
        "colab_type": "code",
        "colab": {}
      },
      "cell_type": "code",
      "source": [
        "class MyConvNet(Chain):\n",
        "    def __init__(self):\n",
        "        super(MyConvNet, self).__init__()\n",
        "        with self.init_scope():\n",
        "            # 畳み込み層の定義\n",
        "            # in_channels:Noneを指定しても動的にメモリ確保するので問題なく動作する\n",
        "            # out_channels:出力する配列のチャンネル数\n",
        "            # ksize:フィルタのサイズ（平行移動するフィルターの長さを指定）\n",
        "            # stride:入力データに対してstride分フィルターを適用していくパラメータを指定\n",
        "            # pad:イメージは画像データの周りにpadのサイズ分だけ空白を用意してそこに対してもフィルターを適用するようなイメージ\n",
        "            # dilate:今回の実装では設定していないが、飛び飛びにフィルターを適用するパラメータ\n",
        "            self.conv1 = L.Convolution2D(\n",
        "                in_channels=None, out_channels=32, ksize=3, stride=1, pad=1)\n",
        "            # 畳み込み層の定義２層目\n",
        "            self.conv2 = L.Convolution2D(\n",
        "                in_channels=None, out_channels=64, ksize=3, stride=1, pad=1)\n",
        "            # 畳み込み層の定義３層目\n",
        "            self.conv3 = L.Convolution2D(\n",
        "                in_channels=None, out_channels=128, ksize=3, stride=1, pad=1)\n",
        "            self.conv4 = L.Convolution2D(\n",
        "                in_channels=None, out_channels=128, ksize=3, stride=1, pad=1)\n",
        "            self.fc5 = L.Linear(None, 1000)\n",
        "            self.fc6 = L.Linear(None, 10)\n",
        "\n",
        "    def __call__(self, x):\n",
        "        h = F.sigmoid(self.conv1(x.reshape((-1, 3, 32, 32))))\n",
        "        h = F.max_pooling_2d(h, ksize=2, stride=2)\n",
        "        h = F.sigmoid(self.conv2(h))\n",
        "        h = F.max_pooling_2d(h, ksize=2, stride=2)\n",
        "        h = F.sigmoid(self.conv3(h))\n",
        "        h = F.max_pooling_2d(h, ksize=2, stride=2)\n",
        "        h = F.sigmoid(self.conv4(h))\n",
        "        h = F.sigmoid(self.fc5(h))\n",
        "        return self.fc6(h)"
      ],
      "execution_count": 0,
      "outputs": []
    },
    {
      "metadata": {
        "id": "nU7QYShEErYr",
        "colab_type": "code",
        "colab": {}
      },
      "cell_type": "code",
      "source": [
        "def  train_and_validate(\n",
        "        model, optimizer, train, validation, n_epoch, batchsize, device=0):\n",
        "    \n",
        "    # 1. deviceがgpuであれば、gpuにモデルのデータを転送する\n",
        "    if device >= 0:\n",
        "        model.to_cpu()\n",
        "        \n",
        "    # 2. Optimizerを設定する\n",
        "    optimizer.setup(model)\n",
        "    \n",
        "    # 3. DatasetからIteratorを作成する\n",
        "    train_iter = chainer.iterators.SerialIterator(train, batchsize)\n",
        "    validation_iter = chainer.iterators.SerialIterator(\n",
        "        validation, batchsize, repeat=False, shuffle=False)\n",
        "    \n",
        "    # 4. Updater・Trainerを作成する\n",
        "    updater = training.StandardUpdater(train_iter, optimizer)\n",
        "    trainer = chainer.training.Trainer(updater, (n_epoch, 'epoch'), out='out')\n",
        "    \n",
        "    # 5. Trainerの機能を拡張する\n",
        "    trainer.extend(extensions.LogReport())\n",
        "    trainer.extend(extensions.Evaluator(validation_iter, model), name='val')\n",
        "    trainer.extend(extensions.PrintReport(\n",
        "        ['epoch', 'main/loss', 'main/accuracy', 'val/main/loss', 'val/main/accuracy', 'elapsed_time']))\n",
        "    trainer.extend(extensions.PlotReport(\n",
        "        ['main/loss', 'val/main/loss'],x_key='epoch', file_name='loss.png'))\n",
        "    trainer.extend(extensions.PlotReport(\n",
        "        ['main/accuracy', 'val/main/accuracy'], x_key='epoch', file_name='accuracy.png'))\n",
        "    trainer.extend(extensions.dump_graph('main/loss'))\n",
        "    \n",
        "    # 6. 訓練を開始する\n",
        "    trainer.run()\n"
      ],
      "execution_count": 0,
      "outputs": []
    },
    {
      "metadata": {
        "id": "_0GNCekJErYt",
        "colab_type": "code",
        "colab": {
          "base_uri": "https://localhost:8080/",
          "height": 51
        },
        "outputId": "7c567f3c-c17c-4b5c-ed00-0e08db7ae85f"
      },
      "cell_type": "code",
      "source": [
        "n_epoch = 20\n",
        "batchsize = 128\n",
        "\n",
        "model = MyConvNet()\n",
        "classifier_model = L.Classifier(model)\n",
        "optimizer = optimizers.Adam()\n",
        "train_and_validate(\n",
        "    classifier_model, optimizer, train, validation, n_epoch, batchsize)"
      ],
      "execution_count": 0,
      "outputs": [
        {
          "output_type": "stream",
          "text": [
            "epoch       main/loss   main/accuracy  val/main/loss  val/main/accuracy  elapsed_time\n",
            "\u001b[J1           2.34072     0.100614       2.3189         0.0936511          438.314       \n"
          ],
          "name": "stdout"
        }
      ]
    },
    {
      "metadata": {
        "id": "zjLopk_3ErYx",
        "colab_type": "code",
        "colab": {}
      },
      "cell_type": "code",
      "source": [
        ""
      ],
      "execution_count": 0,
      "outputs": []
    }
  ]
}