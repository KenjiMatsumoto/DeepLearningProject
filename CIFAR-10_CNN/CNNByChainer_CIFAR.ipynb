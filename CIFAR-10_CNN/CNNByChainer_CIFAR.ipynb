{
  "nbformat": 4,
  "nbformat_minor": 0,
  "metadata": {
    "colab": {
      "name": "CNNByChainer_CIFAR.ipynb",
      "version": "0.3.2",
      "provenance": []
    },
    "kernelspec": {
      "name": "python3",
      "display_name": "Python 3"
    },
    "accelerator": "GPU"
  },
  "cells": [
    {
      "metadata": {
        "id": "Wkv-hXTebP0I",
        "colab_type": "code",
        "colab": {
          "base_uri": "https://localhost:8080/",
          "height": 326
        },
        "outputId": "f8c79f78-5797-430f-d672-d2d25ec9e205"
      },
      "cell_type": "code",
      "source": [
        "# import\n",
        "%matplotlib inline\n",
        "# cupyのインストール\n",
        "!curl https://colab.chainer.org/install | sh -\n",
        "!pip install chutil\n",
        "import matplotlib.pyplot as plt\n",
        "import numpy as np\n",
        "import pandas as pd\n",
        "import seaborn as sns\n",
        "import chainer\n",
        "import chutil\n",
        "\n",
        "import chainer.functions as F\n",
        "import chainer.links as L\n",
        "from chainer import Chain\n",
        "import chainer.optimizers as optimizers\n",
        "\n",
        "from chainer.datasets import get_cifar10\n",
        "from chainer import optimizers, training\n",
        "from chainer.training import extensions\n",
        "\n",
        "# データセットがダウンロード済みでなければ、ダウンロードも行う\n",
        "train, test = get_cifar10()\n",
        "train, validation = chainer.datasets.split_dataset_random(train, 40000, seed=0)"
      ],
      "execution_count": 2,
      "outputs": [
        {
          "output_type": "stream",
          "text": [
            "  % Total    % Received % Xferd  Average Speed   Time    Time     Time  Current\n",
            "                                 Dload  Upload   Total   Spent    Left  Speed\n",
            "\r  0     0    0     0    0     0      0      0 --:--:-- --:--:-- --:--:--     0\r100  1379  100  1379    0     0  19422      0 --:--:-- --:--:-- --:--:-- 19422\n",
            "+ apt -y -q install cuda-libraries-dev-9-2\n",
            "Reading package lists...\n",
            "Building dependency tree...\n",
            "Reading state information...\n",
            "cuda-libraries-dev-9-2 is already the newest version (9.2.148-1).\n",
            "0 upgraded, 0 newly installed, 0 to remove and 8 not upgraded.\n",
            "+ pip install -q cupy-cuda92  chainer \n",
            "+ set +ex\n",
            "Installation succeeded!\n",
            "Collecting chutil\n",
            "  Downloading https://files.pythonhosted.org/packages/74/d3/e761e43572a1bc53ab787a11b227b9ccc0e857cdb531805fb12e4e15707a/chutil-0.1.4-py3-none-any.whl\n",
            "Installing collected packages: chutil\n",
            "Successfully installed chutil-0.1.4\n"
          ],
          "name": "stdout"
        },
        {
          "output_type": "stream",
          "text": [
            "Downloading from https://www.cs.toronto.edu/~kriz/cifar-10-python.tar.gz...\n"
          ],
          "name": "stderr"
        }
      ]
    },
    {
      "metadata": {
        "id": "8YivoH3AbP0V",
        "colab_type": "code",
        "colab": {}
      },
      "cell_type": "code",
      "source": [
        "class MyConvNet(Chain):\n",
        "    def __init__(self):\n",
        "        super(MyConvNet, self).__init__()\n",
        "        with self.init_scope():\n",
        "            # 畳み込み層の定義\n",
        "            # in_channels:Noneを指定しても動的にメモリ確保するので問題なく動作する\n",
        "            # out_channels:出力する配列のチャンネル数\n",
        "            # ksize:フィルタのサイズ（平行移動するフィルターの長さを指定）\n",
        "            # stride:入力データに対してstride分フィルターを適用していくパラメータを指定\n",
        "            # pad:イメージは画像データの周りにpadのサイズ分だけ空白を用意してそこに対してもフィルターを適用するようなイメージ\n",
        "            # dilate:今回の実装では設定していないが、飛び飛びにフィルターを適用するパラメータ\n",
        "            self.conv1 = L.Convolution2D(\n",
        "                in_channels=None, out_channels=32, ksize=3, stride=1, pad=1)\n",
        "            # 畳み込み層の定義２層目\n",
        "            self.conv2 = L.Convolution2D(\n",
        "                in_channels=None, out_channels=64, ksize=3, stride=1, pad=1)\n",
        "            # 畳み込み層の定義３層目\n",
        "            self.conv3 = L.Convolution2D(\n",
        "                in_channels=None, out_channels=128, ksize=3, stride=1, pad=1)\n",
        "            self.conv4 = L.Convolution2D(\n",
        "                in_channels=None, out_channels=256, ksize=3, stride=1, pad=1)\n",
        "            self.conv5 = L.Convolution2D(\n",
        "                in_channels=None, out_channels=256, ksize=3, stride=1, pad=1)\n",
        "            self.fc6 = L.Linear(None, 1000)\n",
        "            self.fc7 = L.Linear(None, 10)\n",
        "\n",
        "    def __call__(self, x):\n",
        "        h = F.relu(self.conv1(x.reshape((-1, 3, 32, 32))))\n",
        "        h = F.max_pooling_2d(h, ksize=2, stride=2)\n",
        "        h = F.relu(self.conv2(h))\n",
        "        h = F.max_pooling_2d(h, ksize=2, stride=2)\n",
        "        h = F.relu(self.conv3(h))\n",
        "        h = F.max_pooling_2d(h, ksize=2, stride=2)\n",
        "        h = F.relu(self.conv4(h))\n",
        "        h = F.relu(self.conv5(h))\n",
        "        h = F.relu(self.fc6(h))\n",
        "        return self.fc7(h)"
      ],
      "execution_count": 0,
      "outputs": []
    },
    {
      "metadata": {
        "id": "6DbJ-Dy_bP0Y",
        "colab_type": "code",
        "colab": {}
      },
      "cell_type": "code",
      "source": [
        "def  train_and_validate(\n",
        "        model, optimizer, train, validation, n_epoch, batchsize, device=0):\n",
        "    \n",
        "    # 1. deviceがgpuであれば、gpuにモデルのデータを転送する\n",
        "    if device >= 0:\n",
        "        model.to_gpu(device)\n",
        "        \n",
        "    # 2. Optimizerを設定する\n",
        "    optimizer.setup(model)\n",
        "    \n",
        "    # 3. DatasetからIteratorを作成する\n",
        "    train_iter = chainer.iterators.SerialIterator(train, batchsize)\n",
        "    validation_iter = chainer.iterators.SerialIterator(\n",
        "        validation, batchsize, repeat=False, shuffle=False)\n",
        "    \n",
        "    # 4. Updater・Trainerを作成する\n",
        "    updater = training.StandardUpdater(train_iter, optimizer, device=device)\n",
        "    trainer = chainer.training.Trainer(updater, (n_epoch, 'epoch'), out='out')\n",
        "    \n",
        "    # 5. Trainerの機能を拡張する\n",
        "    trainer.extend(extensions.LogReport())\n",
        "    trainer.extend(extensions.Evaluator(validation_iter, model, device=device), name='val')\n",
        "    trainer.extend(extensions.PrintReport(\n",
        "        ['epoch', 'main/loss', 'main/accuracy', 'val/main/loss', 'val/main/accuracy', 'elapsed_time']))\n",
        "    trainer.extend(extensions.PlotReport(\n",
        "        ['main/loss', 'val/main/loss'],x_key='epoch', file_name='loss.png'))\n",
        "    trainer.extend(extensions.PlotReport(\n",
        "        ['main/accuracy', 'val/main/accuracy'], x_key='epoch', file_name='accuracy.png'))\n",
        "    trainer.extend(extensions.dump_graph('main/loss'))\n",
        "    \n",
        "    # 6. 訓練を開始する\n",
        "    trainer.run()"
      ],
      "execution_count": 0,
      "outputs": []
    },
    {
      "metadata": {
        "id": "hLJjQrcMbP0a",
        "colab_type": "code",
        "colab": {
          "base_uri": "https://localhost:8080/",
          "height": 714
        },
        "outputId": "fb682090-7195-4b6b-e75b-b0cc747e3f25"
      },
      "cell_type": "code",
      "source": [
        "n_epoch = 40\n",
        "batchsize = 128\n",
        "\n",
        "model = MyConvNet()\n",
        "classifier_model = L.Classifier(model)\n",
        "optimizer = optimizers.Adam()\n",
        "train_and_validate(\n",
        "    classifier_model, optimizer, train, validation, n_epoch, batchsize)"
      ],
      "execution_count": 9,
      "outputs": [
        {
          "output_type": "stream",
          "text": [
            "epoch       main/loss   main/accuracy  val/main/loss  val/main/accuracy  elapsed_time\n",
            "\u001b[J1           1.57502     0.420103       1.21956        0.556764           12.4893       \n",
            "\u001b[J2           1.09638     0.608499       1.0412         0.623912           25.202        \n",
            "\u001b[J3           0.859081    0.695213       0.907553       0.67771            37.9964       \n",
            "\u001b[J4           0.686559    0.758439       0.810029       0.715684           50.7711       \n",
            "\u001b[J5           0.545755    0.808881       0.831765       0.722013           63.5506       \n",
            "\u001b[J6           0.406682    0.857772       0.857763       0.727749           76.3204       \n",
            "\u001b[J7           0.293124    0.897938       0.983634       0.717267           89.0658       \n",
            "\u001b[J8           0.218195    0.921875       1.03576        0.726068           101.812       \n",
            "\u001b[J9           0.160603    0.943316       1.14116        0.726068           114.577       \n",
            "\u001b[J10          0.127818    0.953801       1.29286        0.722013           127.545       \n",
            "\u001b[J11          0.108935    0.962285       1.29008        0.713805           140.267       \n",
            "\u001b[J12          0.102662    0.963992       1.31566        0.717069           152.982       \n",
            "\u001b[J13          0.0920962   0.967976       1.42312        0.723002           165.699       \n",
            "\u001b[J14          0.0916265   0.968399       1.41658        0.725178           178.374       \n",
            "\u001b[J15          0.0713481   0.975614       1.53132        0.724585           191.104       \n",
            "\u001b[J16          0.0770065   0.974134       1.49889        0.719146           203.815       \n",
            "\u001b[J17          0.0721271   0.975564       1.63991        0.710938           216.568       \n",
            "\u001b[J18          0.0797824   0.972781       1.47506        0.722013           229.272       \n",
            "\u001b[J19          0.0580239   0.980681       1.59165        0.729331           242.11        \n",
            "\u001b[J20          0.0553357   0.982071       1.7337         0.726464           254.801       \n",
            "\u001b[J21          0.0591013   0.979483       1.75565        0.72587            267.537       \n",
            "\u001b[J22          0.0598838   0.979642       1.8509         0.718453           280.235       \n",
            "\u001b[J23          0.0649778   0.977686       1.68525        0.722409           292.965       \n",
            "\u001b[J24          0.0534672   0.981846       1.87979        0.718157           305.648       \n",
            "\u001b[J25          0.0540589   0.981829       1.83667        0.721123           318.354       \n",
            "\u001b[J26          0.0628891   0.979918       1.78466        0.718256           331.023       \n",
            "\u001b[J27          0.0384083   0.98747        1.98938        0.73032            343.742       \n",
            "\u001b[J28          0.0623678   0.979592       1.78001        0.717267           356.42        \n",
            "\u001b[J29          0.0518735   0.983851       1.83885        0.718651           369.161       \n",
            "\u001b[J30          0.0493268   0.98465        1.914          0.717563           381.973       \n",
            "\u001b[J31          0.0536979   0.982877       1.72314        0.723596           394.714       \n",
            "\u001b[J32          0.0416204   0.986503       1.99439        0.717959           407.411       \n",
            "\u001b[J33          0.0449794   0.985224       2.25174        0.711729           420.198       \n",
            "\u001b[J34          0.0507121   0.9846         2.13957        0.713904           432.868       \n",
            "\u001b[J35          0.0455111   0.985473       2.03171        0.718651           445.573       \n",
            "\u001b[J36          0.0455789   0.985402       2.14552        0.713311           458.299       \n",
            "\u001b[J37          0.0530821   0.982902       1.96304        0.720728           471.005       \n",
            "\u001b[J38          0.044932    0.985827       2.02969        0.720233           483.673       \n",
            "\u001b[J39          0.0445527   0.986596       1.98713        0.710443           496.385       \n",
            "\u001b[J40          0.0411479   0.987355       2.12793        0.71608            509.076       \n"
          ],
          "name": "stdout"
        }
      ]
    },
    {
      "metadata": {
        "id": "X3NbbeiYbP0d",
        "colab_type": "code",
        "colab": {}
      },
      "cell_type": "code",
      "source": [
        ""
      ],
      "execution_count": 0,
      "outputs": []
    }
  ]
}