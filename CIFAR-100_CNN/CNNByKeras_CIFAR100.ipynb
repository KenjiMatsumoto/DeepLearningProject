{
  "nbformat": 4,
  "nbformat_minor": 0,
  "metadata": {
    "colab": {
      "name": "CNNByKeras_CIFAR100.ipynb",
      "version": "0.3.2",
      "provenance": []
    },
    "kernelspec": {
      "display_name": "Python 3",
      "language": "python",
      "name": "python3"
    },
    "accelerator": "GPU"
  },
  "cells": [
    {
      "metadata": {
        "colab_type": "code",
        "id": "jDkU4wvOP9MY",
        "colab": {
          "base_uri": "https://localhost:8080/",
          "height": 34
        },
        "outputId": "ab495cd4-6d8b-4086-f2fb-33139c1c3353"
      },
      "cell_type": "code",
      "source": [
        "# import \n",
        "from keras.datasets import cifar100\n",
        "from sklearn.model_selection import train_test_split\n",
        "from keras.models import Model\n",
        "from keras.layers import Conv2D, MaxPooling2D, AveragePooling2D, Dropout, Input, Dense, Flatten, BatchNormalization, Activation, add\n",
        "from keras.optimizers import Adam\n",
        "from keras.losses import categorical_crossentropy\n",
        "from keras.utils import to_categorical\n",
        "\n",
        "import argparse\n",
        "import numpy as np"
      ],
      "execution_count": 1,
      "outputs": [
        {
          "output_type": "stream",
          "text": [
            "Using TensorFlow backend.\n"
          ],
          "name": "stderr"
        }
      ]
    },
    {
      "metadata": {
        "colab_type": "code",
        "id": "0-k5OsntP9Me",
        "colab": {}
      },
      "cell_type": "code",
      "source": [
        "# model作成 CNNByChainerと同じ層構成にする\n",
        "def create_CNN_model(input_shape=(32, 32, 3), class_num=100):\n",
        "    input = Input((32, 32, 3))\n",
        "    kernel_size = (3, 3)\n",
        "    max_pool_size = (3, 3)\n",
        "    # 畳み込み層の実装\n",
        "    # 1層目\n",
        "    cnn = Conv2D(128, kernel_size=kernel_size, padding='same', strides=(1, 1), activation='relu', input_shape=(32, 32, 3))(input)\n",
        "    cnn = MaxPooling2D(pool_size=max_pool_size, strides=(2, 2))(cnn)\n",
        "    cnn = Conv2D(256, kernel_size, padding='same', strides=(1, 1), activation='relu')(cnn)\n",
        "    cnn = MaxPooling2D(pool_size=max_pool_size, strides=(2, 2))(cnn)\n",
        "    cnn = Dropout(0.25)(cnn)\n",
        "    cnn = Conv2D(512, kernel_size, padding='same', strides=(1, 1), activation='relu')(cnn)\n",
        "    cnn = MaxPooling2D(pool_size=max_pool_size, strides=(2, 2))(cnn)\n",
        "    cnn = Conv2D(1024, kernel_size, padding='same', strides=(1, 1), activation='relu')(cnn)\n",
        "    cnn = MaxPooling2D(pool_size=max_pool_size, strides=(2, 2))(cnn)\n",
        "    cnn = Dropout(0.25)(cnn)\n",
        "    cnn = Conv2D(1024, kernel_size, padding='same', strides=(1, 1), activation='relu')(cnn)\n",
        "\n",
        "    # 入力を平滑化する層（いわゆるデータをフラット化する層、例えば4次元配列を1次元配列に変換するなど）\n",
        "    fc = Flatten()(cnn)\n",
        "    # denseは全結合層\n",
        "    fc = Dense(2048, activation='relu')(fc)\n",
        "    fc = Dropout(0.5)(fc)\n",
        "    softmax = Dense(100, activation='softmax')(fc)\n",
        "    model = Model(input=input, output=softmax)\n",
        "    \n",
        "    return model\n",
        "\n",
        "def train():\n",
        "\n",
        "    # cifar10のデータ取得\n",
        "    (x_train, y_train), (x_test, y_test) = cifar100.load_data()\n",
        "    x_train1, x_valid, y_train1, y_valid = train_test_split(x_train, y_train, test_size=0.2)\n",
        "    \n",
        "    model = create_CNN_model()\n",
        "\n",
        "    # RGB画像で32×32なので32×32×3にreshapeする\n",
        "    x_train = x_train.reshape(x_train.shape[0], 32, 32, 3)\n",
        "    x_valid = x_valid.reshape(x_valid.shape[0], 32, 32, 3)\n",
        "    x_test = x_test.reshape(x_test.shape[0], 32, 32, 3)\n",
        "    \n",
        "    x_train = x_train.astype('float32')\n",
        "    x_valid = x_valid.astype('float32')\n",
        "    x_test = x_test.astype('float32')\n",
        "    x_train /= 255\n",
        "    x_valid /= 255\n",
        "    x_test /= 255\n",
        "\n",
        "    # one-hot vector形式に変換する\n",
        "    y_train = to_categorical(y_train, 100)\n",
        "    y_valid = to_categorical(y_valid, 100)\n",
        "    y_test = to_categorical(y_test, 100)\n",
        "    \n",
        "    model.compile(loss=categorical_crossentropy,\n",
        "                  optimizer=Adam(),  metrics=['accuracy'])\n",
        "    # 学習\n",
        "    model.fit(x_train, y_train, epochs=40, batch_size=256, verbose=1, validation_data=(x_valid, y_valid))\n",
        "    # 精度算出\n",
        "    score = model.evaluate(x_test, y_test, verbose=0)\n",
        "    print('Test loss:', score[0])\n",
        "    print('Test accuracy:', score[1])"
      ],
      "execution_count": 0,
      "outputs": []
    },
    {
      "metadata": {
        "colab_type": "code",
        "id": "TVJ27ClIP9Mg",
        "outputId": "181b43d5-dc2c-4806-d70e-ba5f4c9af662",
        "colab": {
          "base_uri": "https://localhost:8080/",
          "height": 1445
        }
      },
      "cell_type": "code",
      "source": [
        "train()"
      ],
      "execution_count": 23,
      "outputs": [
        {
          "output_type": "stream",
          "text": [
            "/usr/local/lib/python3.6/dist-packages/ipykernel_launcher.py:25: UserWarning: Update your `Model` call to the Keras 2 API: `Model(inputs=Tensor(\"in..., outputs=Tensor(\"de...)`\n"
          ],
          "name": "stderr"
        },
        {
          "output_type": "stream",
          "text": [
            "Train on 50000 samples, validate on 10000 samples\n",
            "Epoch 1/40\n",
            "50000/50000 [==============================] - 42s 849us/step - loss: 4.3538 - acc: 0.0258 - val_loss: 4.0736 - val_acc: 0.0497\n",
            "Epoch 2/40\n",
            "50000/50000 [==============================] - 34s 684us/step - loss: 3.9126 - acc: 0.0771 - val_loss: 3.6424 - val_acc: 0.1152\n",
            "Epoch 3/40\n",
            "50000/50000 [==============================] - 34s 684us/step - loss: 3.5891 - acc: 0.1292 - val_loss: 3.3623 - val_acc: 0.1636\n",
            "Epoch 4/40\n",
            "50000/50000 [==============================] - 34s 687us/step - loss: 3.3136 - acc: 0.1769 - val_loss: 3.0600 - val_acc: 0.2232\n",
            "Epoch 5/40\n",
            "50000/50000 [==============================] - 35s 690us/step - loss: 3.0469 - acc: 0.2316 - val_loss: 2.7859 - val_acc: 0.2819\n",
            "Epoch 6/40\n",
            "50000/50000 [==============================] - 34s 689us/step - loss: 2.8127 - acc: 0.2761 - val_loss: 2.5436 - val_acc: 0.3300\n",
            "Epoch 7/40\n",
            "50000/50000 [==============================] - 34s 690us/step - loss: 2.6232 - acc: 0.3156 - val_loss: 2.2719 - val_acc: 0.3919\n",
            "Epoch 8/40\n",
            "50000/50000 [==============================] - 34s 689us/step - loss: 2.4563 - acc: 0.3522 - val_loss: 2.1487 - val_acc: 0.4208\n",
            "Epoch 9/40\n",
            "50000/50000 [==============================] - 34s 688us/step - loss: 2.3306 - acc: 0.3785 - val_loss: 1.9621 - val_acc: 0.4653\n",
            "Epoch 10/40\n",
            "50000/50000 [==============================] - 34s 690us/step - loss: 2.2110 - acc: 0.4070 - val_loss: 1.8458 - val_acc: 0.4913\n",
            "Epoch 11/40\n",
            "50000/50000 [==============================] - 34s 689us/step - loss: 2.0905 - acc: 0.4345 - val_loss: 1.7114 - val_acc: 0.5264\n",
            "Epoch 12/40\n",
            "50000/50000 [==============================] - 34s 688us/step - loss: 2.0113 - acc: 0.4500 - val_loss: 1.6480 - val_acc: 0.5396\n",
            "Epoch 13/40\n",
            "50000/50000 [==============================] - 34s 689us/step - loss: 1.9162 - acc: 0.4731 - val_loss: 1.5048 - val_acc: 0.5764\n",
            "Epoch 14/40\n",
            "50000/50000 [==============================] - 34s 689us/step - loss: 1.8335 - acc: 0.4918 - val_loss: 1.4243 - val_acc: 0.5957\n",
            "Epoch 15/40\n",
            "50000/50000 [==============================] - 34s 689us/step - loss: 1.7542 - acc: 0.5122 - val_loss: 1.2854 - val_acc: 0.6322\n",
            "Epoch 16/40\n",
            "50000/50000 [==============================] - 34s 690us/step - loss: 1.6819 - acc: 0.5292 - val_loss: 1.2215 - val_acc: 0.6479\n",
            "Epoch 17/40\n",
            "50000/50000 [==============================] - 35s 691us/step - loss: 1.6119 - acc: 0.5450 - val_loss: 1.1794 - val_acc: 0.6587\n",
            "Epoch 18/40\n",
            "50000/50000 [==============================] - 35s 692us/step - loss: 1.5515 - acc: 0.5570 - val_loss: 1.1045 - val_acc: 0.6844\n",
            "Epoch 19/40\n",
            "50000/50000 [==============================] - 35s 691us/step - loss: 1.4890 - acc: 0.5724 - val_loss: 0.9943 - val_acc: 0.7162\n",
            "Epoch 20/40\n",
            "50000/50000 [==============================] - 35s 691us/step - loss: 1.4508 - acc: 0.5840 - val_loss: 0.9924 - val_acc: 0.7095\n",
            "Epoch 21/40\n",
            "50000/50000 [==============================] - 35s 691us/step - loss: 1.3888 - acc: 0.5963 - val_loss: 0.8725 - val_acc: 0.7449\n",
            "Epoch 22/40\n",
            "50000/50000 [==============================] - 35s 692us/step - loss: 1.3433 - acc: 0.6106 - val_loss: 0.8884 - val_acc: 0.7417\n",
            "Epoch 23/40\n",
            "50000/50000 [==============================] - 35s 692us/step - loss: 1.2896 - acc: 0.6227 - val_loss: 0.7714 - val_acc: 0.7776\n",
            "Epoch 24/40\n",
            "50000/50000 [==============================] - 35s 692us/step - loss: 1.2391 - acc: 0.6350 - val_loss: 0.7101 - val_acc: 0.7955\n",
            "Epoch 25/40\n",
            "50000/50000 [==============================] - 35s 693us/step - loss: 1.1982 - acc: 0.6453 - val_loss: 0.6948 - val_acc: 0.7964\n",
            "Epoch 26/40\n",
            "50000/50000 [==============================] - 35s 691us/step - loss: 1.1614 - acc: 0.6551 - val_loss: 0.6390 - val_acc: 0.8197\n",
            "Epoch 27/40\n",
            "50000/50000 [==============================] - 35s 693us/step - loss: 1.1274 - acc: 0.6646 - val_loss: 0.6503 - val_acc: 0.8102\n",
            "Epoch 28/40\n",
            "50000/50000 [==============================] - 35s 692us/step - loss: 1.0979 - acc: 0.6707 - val_loss: 0.5710 - val_acc: 0.8374\n",
            "Epoch 29/40\n",
            "50000/50000 [==============================] - 35s 692us/step - loss: 1.0882 - acc: 0.6740 - val_loss: 0.5461 - val_acc: 0.8409\n",
            "Epoch 30/40\n",
            "50000/50000 [==============================] - 35s 691us/step - loss: 1.0428 - acc: 0.6879 - val_loss: 0.4921 - val_acc: 0.8583\n",
            "Epoch 31/40\n",
            "50000/50000 [==============================] - 35s 692us/step - loss: 1.0157 - acc: 0.6947 - val_loss: 0.5025 - val_acc: 0.8520\n",
            "Epoch 32/40\n",
            "50000/50000 [==============================] - 35s 692us/step - loss: 0.9688 - acc: 0.7073 - val_loss: 0.4208 - val_acc: 0.8813\n",
            "Epoch 33/40\n",
            "50000/50000 [==============================] - 35s 690us/step - loss: 0.9435 - acc: 0.7128 - val_loss: 0.4146 - val_acc: 0.8806\n",
            "Epoch 34/40\n",
            "50000/50000 [==============================] - 35s 691us/step - loss: 0.9392 - acc: 0.7158 - val_loss: 0.4422 - val_acc: 0.8697\n",
            "Epoch 35/40\n",
            "50000/50000 [==============================] - 35s 691us/step - loss: 0.9072 - acc: 0.7227 - val_loss: 0.3884 - val_acc: 0.8905\n",
            "Epoch 36/40\n",
            "50000/50000 [==============================] - 35s 691us/step - loss: 0.8687 - acc: 0.7325 - val_loss: 0.3598 - val_acc: 0.8968\n",
            "Epoch 37/40\n",
            "50000/50000 [==============================] - 35s 692us/step - loss: 0.8747 - acc: 0.7322 - val_loss: 0.3155 - val_acc: 0.9165\n",
            "Epoch 38/40\n",
            "50000/50000 [==============================] - 35s 691us/step - loss: 0.8434 - acc: 0.7406 - val_loss: 0.3308 - val_acc: 0.9102\n",
            "Epoch 39/40\n",
            "50000/50000 [==============================] - 34s 689us/step - loss: 0.8310 - acc: 0.7467 - val_loss: 0.3056 - val_acc: 0.9135\n",
            "Epoch 40/40\n",
            "50000/50000 [==============================] - 35s 691us/step - loss: 0.8034 - acc: 0.7516 - val_loss: 0.2791 - val_acc: 0.9230\n",
            "Test loss: 2.2759315496444703\n",
            "Test accuracy: 0.4935\n"
          ],
          "name": "stdout"
        }
      ]
    },
    {
      "metadata": {
        "colab_type": "code",
        "id": "2wdCfZqbQEJf",
        "colab": {}
      },
      "cell_type": "code",
      "source": [
        ""
      ],
      "execution_count": 0,
      "outputs": []
    }
  ]
}