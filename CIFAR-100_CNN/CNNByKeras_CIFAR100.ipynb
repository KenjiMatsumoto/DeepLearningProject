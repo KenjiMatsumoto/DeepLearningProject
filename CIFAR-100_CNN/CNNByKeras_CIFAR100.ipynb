{
  "nbformat": 4,
  "nbformat_minor": 0,
  "metadata": {
    "colab": {
      "name": "CNNByKeras_CIFAR100.ipynb",
      "version": "0.3.2",
      "provenance": []
    },
    "kernelspec": {
      "name": "python3",
      "display_name": "Python 3"
    },
    "accelerator": "GPU"
  },
  "cells": [
    {
      "metadata": {
        "id": "jDkU4wvOP9MY",
        "colab_type": "code",
        "colab": {}
      },
      "cell_type": "code",
      "source": [
        "# import \n",
        "from keras.datasets import cifar100\n",
        "from sklearn.model_selection import train_test_split\n",
        "from keras.models import Model\n",
        "from keras.layers import Conv2D, MaxPooling2D, Dropout, Input, Dense, Flatten\n",
        "from keras.optimizers import Adam\n",
        "from keras.losses import categorical_crossentropy\n",
        "from keras.utils import to_categorical\n",
        "import argparse\n",
        "import numpy as np"
      ],
      "execution_count": 0,
      "outputs": []
    },
    {
      "metadata": {
        "id": "0-k5OsntP9Me",
        "colab_type": "code",
        "colab": {}
      },
      "cell_type": "code",
      "source": [
        "# model作成 CNNByChainerと同じ層構成にする\n",
        "def create_CNN_model(input_shape=(32, 32, 3), class_num=100):\n",
        "    input = Input((32, 32, 3))\n",
        "    kernel_size = (3, 3)\n",
        "    max_pool_size = (2, 2)\n",
        "    # 畳み込み層の実装\n",
        "    # 1層目\n",
        "    cnn = Conv2D(32, kernel_size=kernel_size, padding='same', strides=(1, 1), activation='relu', input_shape=(32, 32, 3))(input)\n",
        "    cnn = MaxPooling2D(pool_size=max_pool_size, strides=(2, 2))(cnn)\n",
        "    cnn = Conv2D(64, kernel_size, padding='same', strides=(1, 1), activation='relu')(cnn)\n",
        "    cnn = MaxPooling2D(pool_size=max_pool_size, strides=(2, 2))(cnn)\n",
        "    cnn = Dropout(0.25)(cnn)\n",
        "    cnn = Conv2D(128, kernel_size, padding='same', strides=(1, 1), activation='relu')(cnn)\n",
        "    cnn = MaxPooling2D(pool_size=max_pool_size, strides=(2, 2))(cnn)\n",
        "    cnn = Conv2D(256, kernel_size, padding='same', strides=(1, 1), activation='relu')(cnn)\n",
        "    cnn = MaxPooling2D(pool_size=max_pool_size, strides=(2, 2))(cnn)\n",
        "    cnn = Dropout(0.25)(cnn)\n",
        "    cnn = Conv2D(256, kernel_size, padding='same', strides=(1, 1), activation='relu')(cnn)\n",
        "    # 入力を平滑化する層（いわゆるデータをフラット化する層、例えば4次元配列を1次元配列に変換するなど）\n",
        "    fc = Flatten()(cnn)\n",
        "    # denseは全結合層\n",
        "    fc = Dense(1000, activation='relu')(fc)\n",
        "    fc = Dropout(0.5)(fc)\n",
        "    softmax = Dense(100, activation='softmax')(fc)\n",
        "    model = Model(input=input, output=softmax)\n",
        "    \n",
        "    return model\n",
        "\n",
        "def train():\n",
        "\n",
        "    model = create_CNN_model()\n",
        "    # cifar10のデータ取得\n",
        "    (x_train, y_train), (x_test, y_test) = cifar100.load_data()\n",
        "    x_train1, x_valid, y_train1, y_valid = train_test_split(x_train, y_train, test_size=0.2)\n",
        "    # RGB画像で32×32なので32×32×3にreshapeする\n",
        "    x_train = x_train.reshape(x_train.shape[0], 32, 32, 3)\n",
        "    x_valid = x_valid.reshape(x_valid.shape[0], 32, 32, 3)\n",
        "    x_test = x_test.reshape(x_test.shape[0], 32, 32, 3)\n",
        "    \n",
        "    x_train = x_train.astype('float32')\n",
        "    x_valid = x_valid.astype('float32')\n",
        "    x_test = x_test.astype('float32')\n",
        "    x_train /= 255\n",
        "    x_valid /= 255\n",
        "    x_test /= 255\n",
        "\n",
        "    # one-hot vector形式に変換する\n",
        "    y_train = to_categorical(y_train, 100)\n",
        "    y_valid = to_categorical(y_valid, 100)\n",
        "    y_test = to_categorical(y_test, 100)\n",
        "    \n",
        "    model.compile(loss=categorical_crossentropy,\n",
        "                  optimizer=Adam(),  metrics=['accuracy'])\n",
        "    # 学習\n",
        "    model.fit(x_train, y_train, epochs=40, batch_size=128, verbose=1, validation_data=(x_valid, y_valid))\n",
        "    # 精度算出\n",
        "    score = model.evaluate(x_test, y_test, verbose=0)\n",
        "    print('Test loss:', score[0])\n",
        "    print('Test accuracy:', score[1])"
      ],
      "execution_count": 0,
      "outputs": []
    },
    {
      "metadata": {
        "id": "TVJ27ClIP9Mg",
        "colab_type": "code",
        "colab": {
          "base_uri": "https://localhost:8080/",
          "height": 1445
        },
        "outputId": "e8f202e7-009f-4271-c4c2-767f65834ce7"
      },
      "cell_type": "code",
      "source": [
        "train()"
      ],
      "execution_count": 10,
      "outputs": [
        {
          "output_type": "stream",
          "text": [
            "/usr/local/lib/python3.6/dist-packages/ipykernel_launcher.py:24: UserWarning: Update your `Model` call to the Keras 2 API: `Model(inputs=Tensor(\"in..., outputs=Tensor(\"de...)`\n"
          ],
          "name": "stderr"
        },
        {
          "output_type": "stream",
          "text": [
            "Train on 50000 samples, validate on 10000 samples\n",
            "Epoch 1/40\n",
            "50000/50000 [==============================] - 17s 337us/step - loss: 4.3038 - acc: 0.0336 - val_loss: 3.9141 - val_acc: 0.0759\n",
            "Epoch 2/40\n",
            "50000/50000 [==============================] - 12s 248us/step - loss: 3.7697 - acc: 0.1024 - val_loss: 3.4908 - val_acc: 0.1527\n",
            "Epoch 3/40\n",
            "50000/50000 [==============================] - 13s 255us/step - loss: 3.3696 - acc: 0.1769 - val_loss: 3.0287 - val_acc: 0.2402\n",
            "Epoch 4/40\n",
            "50000/50000 [==============================] - 13s 253us/step - loss: 3.0892 - acc: 0.2329 - val_loss: 2.7692 - val_acc: 0.2908\n",
            "Epoch 5/40\n",
            "50000/50000 [==============================] - 13s 254us/step - loss: 2.8794 - acc: 0.2777 - val_loss: 2.5764 - val_acc: 0.3305\n",
            "Epoch 6/40\n",
            "50000/50000 [==============================] - 13s 253us/step - loss: 2.7158 - acc: 0.3074 - val_loss: 2.4370 - val_acc: 0.3705\n",
            "Epoch 7/40\n",
            "50000/50000 [==============================] - 13s 254us/step - loss: 2.5776 - acc: 0.3365 - val_loss: 2.1879 - val_acc: 0.4208\n",
            "Epoch 8/40\n",
            "50000/50000 [==============================] - 13s 255us/step - loss: 2.4642 - acc: 0.3595 - val_loss: 2.0505 - val_acc: 0.4527\n",
            "Epoch 9/40\n",
            "50000/50000 [==============================] - 13s 256us/step - loss: 2.3585 - acc: 0.3833 - val_loss: 1.9710 - val_acc: 0.4717\n",
            "Epoch 10/40\n",
            "50000/50000 [==============================] - 13s 253us/step - loss: 2.2679 - acc: 0.4015 - val_loss: 1.8626 - val_acc: 0.4940\n",
            "Epoch 11/40\n",
            "50000/50000 [==============================] - 13s 254us/step - loss: 2.1996 - acc: 0.4156 - val_loss: 1.7272 - val_acc: 0.5301\n",
            "Epoch 12/40\n",
            "50000/50000 [==============================] - 13s 254us/step - loss: 2.1120 - acc: 0.4334 - val_loss: 1.6442 - val_acc: 0.5586\n",
            "Epoch 13/40\n",
            "50000/50000 [==============================] - 13s 253us/step - loss: 2.0564 - acc: 0.4441 - val_loss: 1.5867 - val_acc: 0.5652\n",
            "Epoch 14/40\n",
            "50000/50000 [==============================] - 13s 254us/step - loss: 1.9958 - acc: 0.4604 - val_loss: 1.5992 - val_acc: 0.5651\n",
            "Epoch 15/40\n",
            "50000/50000 [==============================] - 13s 252us/step - loss: 1.9331 - acc: 0.4720 - val_loss: 1.4124 - val_acc: 0.6072\n",
            "Epoch 16/40\n",
            "50000/50000 [==============================] - 13s 253us/step - loss: 1.8797 - acc: 0.4843 - val_loss: 1.3739 - val_acc: 0.6157\n",
            "Epoch 17/40\n",
            "50000/50000 [==============================] - 13s 254us/step - loss: 1.8460 - acc: 0.4913 - val_loss: 1.3131 - val_acc: 0.6316\n",
            "Epoch 18/40\n",
            "50000/50000 [==============================] - 13s 255us/step - loss: 1.7904 - acc: 0.5057 - val_loss: 1.2803 - val_acc: 0.6439\n",
            "Epoch 19/40\n",
            "50000/50000 [==============================] - 13s 254us/step - loss: 1.7428 - acc: 0.5138 - val_loss: 1.2273 - val_acc: 0.6519\n",
            "Epoch 20/40\n",
            "50000/50000 [==============================] - 13s 254us/step - loss: 1.7024 - acc: 0.5245 - val_loss: 1.1449 - val_acc: 0.6754\n",
            "Epoch 21/40\n",
            "50000/50000 [==============================] - 13s 253us/step - loss: 1.6695 - acc: 0.5324 - val_loss: 1.1006 - val_acc: 0.6878\n",
            "Epoch 22/40\n",
            "50000/50000 [==============================] - 13s 256us/step - loss: 1.6340 - acc: 0.5399 - val_loss: 1.0528 - val_acc: 0.7065\n",
            "Epoch 23/40\n",
            "50000/50000 [==============================] - 13s 251us/step - loss: 1.6029 - acc: 0.5464 - val_loss: 0.9985 - val_acc: 0.7188\n",
            "Epoch 24/40\n",
            "50000/50000 [==============================] - 13s 253us/step - loss: 1.5642 - acc: 0.5554 - val_loss: 0.9364 - val_acc: 0.7386\n",
            "Epoch 25/40\n",
            "50000/50000 [==============================] - 13s 253us/step - loss: 1.5460 - acc: 0.5606 - val_loss: 0.9249 - val_acc: 0.7470\n",
            "Epoch 26/40\n",
            "50000/50000 [==============================] - 13s 254us/step - loss: 1.5147 - acc: 0.5678 - val_loss: 0.8616 - val_acc: 0.7618\n",
            "Epoch 27/40\n",
            "50000/50000 [==============================] - 13s 253us/step - loss: 1.4854 - acc: 0.5723 - val_loss: 0.8983 - val_acc: 0.7502\n",
            "Epoch 28/40\n",
            "50000/50000 [==============================] - 13s 252us/step - loss: 1.4615 - acc: 0.5824 - val_loss: 0.8256 - val_acc: 0.7670\n",
            "Epoch 29/40\n",
            "50000/50000 [==============================] - 12s 245us/step - loss: 1.4448 - acc: 0.5856 - val_loss: 0.8036 - val_acc: 0.7760\n",
            "Epoch 30/40\n",
            "50000/50000 [==============================] - 12s 243us/step - loss: 1.4312 - acc: 0.5889 - val_loss: 0.7782 - val_acc: 0.7824\n",
            "Epoch 31/40\n",
            "50000/50000 [==============================] - 12s 244us/step - loss: 1.4029 - acc: 0.5967 - val_loss: 0.7332 - val_acc: 0.7967\n",
            "Epoch 32/40\n",
            "50000/50000 [==============================] - 12s 241us/step - loss: 1.3889 - acc: 0.6006 - val_loss: 0.7007 - val_acc: 0.8108\n",
            "Epoch 33/40\n",
            "50000/50000 [==============================] - 13s 253us/step - loss: 1.3601 - acc: 0.6051 - val_loss: 0.6934 - val_acc: 0.8023\n",
            "Epoch 34/40\n",
            "50000/50000 [==============================] - 13s 254us/step - loss: 1.3515 - acc: 0.6085 - val_loss: 0.6566 - val_acc: 0.8176\n",
            "Epoch 35/40\n",
            "50000/50000 [==============================] - 13s 254us/step - loss: 1.3397 - acc: 0.6110 - val_loss: 0.6483 - val_acc: 0.8236\n",
            "Epoch 36/40\n",
            "50000/50000 [==============================] - 13s 254us/step - loss: 1.3146 - acc: 0.6159 - val_loss: 0.6181 - val_acc: 0.8331\n",
            "Epoch 37/40\n",
            "50000/50000 [==============================] - 13s 254us/step - loss: 1.3011 - acc: 0.6230 - val_loss: 0.6352 - val_acc: 0.8240\n",
            "Epoch 38/40\n",
            "50000/50000 [==============================] - 13s 254us/step - loss: 1.2830 - acc: 0.6243 - val_loss: 0.5764 - val_acc: 0.8419\n",
            "Epoch 39/40\n",
            "50000/50000 [==============================] - 13s 253us/step - loss: 1.2736 - acc: 0.6296 - val_loss: 0.5457 - val_acc: 0.8533\n",
            "Epoch 40/40\n",
            "50000/50000 [==============================] - 13s 253us/step - loss: 1.2637 - acc: 0.6301 - val_loss: 0.5717 - val_acc: 0.8484\n",
            "Test loss: 2.287442290496826\n",
            "Test accuracy: 0.4588\n"
          ],
          "name": "stdout"
        }
      ]
    },
    {
      "metadata": {
        "id": "2wdCfZqbQEJf",
        "colab_type": "code",
        "colab": {}
      },
      "cell_type": "code",
      "source": [
        ""
      ],
      "execution_count": 0,
      "outputs": []
    }
  ]
}