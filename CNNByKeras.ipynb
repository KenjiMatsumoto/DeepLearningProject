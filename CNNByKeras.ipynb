{
 "cells": [
  {
   "cell_type": "code",
   "execution_count": 18,
   "metadata": {},
   "outputs": [],
   "source": [
    "# import \n",
    "from keras.datasets import mnist\n",
    "from sklearn.model_selection import train_test_split\n",
    "from keras.models import Model\n",
    "from keras.layers import Conv2D, MaxPooling2D, Dropout, Input, Dense, Flatten\n",
    "from keras.optimizers import SGD\n",
    "from keras.losses import categorical_crossentropy\n",
    "import argparse"
   ]
  },
  {
   "cell_type": "code",
   "execution_count": 19,
   "metadata": {},
   "outputs": [],
   "source": [
    "# model作成 CNNByChainerと同じ層構成にする\n",
    "def create_CNN_model(input_shape=(28, 28, 1), class_num=10):\n",
    "    input = Input((28, 28, 1))\n",
    "    kernel_size = (3, 3)\n",
    "    max_pool_size = (2, 2)\n",
    "    # 畳み込み層の実装\n",
    "    # 1層目\n",
    "    cnn = Conv2D(32, kernel_size=kernel_size, padding='same', activation='sigmoid', input_shape=(28, 28, 1))(input)\n",
    "    cnn = MaxPooling2D(pool_size=max_pool_size, strides=(1, 1))(cnn)\n",
    "    cnn = Conv2D(64, kernel_size, padding='same', activation='sigmoid')(cnn)\n",
    "    cnn = MaxPooling2D(pool_size=max_pool_size, strides=(1, 1))(cnn)\n",
    "    cnn = Conv2D(128, kernel_size, padding='same', activation='sigmoid')(cnn)\n",
    "    cnn = MaxPooling2D(pool_size=max_pool_size, strides=(1, 1))(cnn)\n",
    "    cnn = Conv2D(128, kernel_size, padding='same', activation='sigmoid')(cnn)\n",
    "    # 入力を平滑化する層（いわゆるデータをフラット化する層、例えば4次元配列を1次元配列に変換するなど）\n",
    "    fc = Flatten()(cnn)\n",
    "    # denseは全結合層\n",
    "    fc = Dense(1000, activation='sigmoid')(fc)\n",
    "    softmax = Dense(10, activation='softmax')(fc)\n",
    "    model = Model(input=input, output=softmax)\n",
    "    \n",
    "    return model\n",
    "\n",
    "# 全体の正解率を算出\n",
    "def predict_accuracy(x_batch, y_batch, model):\n",
    "    # 予測確率\n",
    "    preds = model.predict(x_batch, verbose=0)\n",
    "    batch_size = len(x_batch)\n",
    "    count = 0\n",
    "    # y(正解の値)とpred(予測の値)を比較\n",
    "    for (y, pred) in zip(y_batch, preds):\n",
    "        # 正解かどうかをチェックし、正解した場合カウントする\n",
    "        if np.argmax(y) == np.argmax(pred):\n",
    "            count += 1\n",
    "    print('acc ', (count/batch_size))\n",
    "\n",
    "def train():\n",
    "    parser = argparse.ArgumentParser(description='train for detection')\n",
    "    parser.add_argument('--load_model_path', type=str, default='')\n",
    "    parser.add_argument('--batch_size', type=int, default=32)\n",
    "    parser.add_argument('--epochs', type=int, default=50)\n",
    "    parser.add_argument('--output_dir_path', type=str, default='model/')\n",
    "\n",
    "    args = parser.parse_args()\n",
    "\n",
    "    model = create_CNN_model()\n",
    "    # mnistデータの取得\n",
    "    (x_train, y_train), (x_test, y_test) = mnist.load_data()\n",
    "    x_train1, x_vaild, y_train1, y_valid = train_test_split(x_train, y_train, test_size=0.175)\n",
    "    \n",
    "    model.compile(loss=categorical_crossentropy,\n",
    "                  optimizer=SGD(lr=0.01, momentum=0.9, nesterov=True))\n",
    "    # 学習\n",
    "    model.fit(x_train, y_train, epochs=args.epochs, batch_size=args.batch_size)\n",
    "    # 精度算出\n",
    "    predict_accuracy(x_test, y_test, model)"
   ]
  },
  {
   "cell_type": "code",
   "execution_count": 20,
   "metadata": {},
   "outputs": [
    {
     "name": "stderr",
     "output_type": "stream",
     "text": [
      "usage: ipykernel_launcher.py [-h] [--load_model_path LOAD_MODEL_PATH]\n",
      "                             [--batch_size BATCH_SIZE] [--epochs EPOCHS]\n",
      "                             [--output_dir_path OUTPUT_DIR_PATH]\n",
      "ipykernel_launcher.py: error: unrecognized arguments: -f /Users/kokubun/Library/Jupyter/runtime/kernel-cd71228f-b75f-4413-b05d-35bc0d9a19c9.json\n"
     ]
    },
    {
     "ename": "SystemExit",
     "evalue": "2",
     "output_type": "error",
     "traceback": [
      "An exception has occurred, use %tb to see the full traceback.\n",
      "\u001b[0;31mSystemExit\u001b[0m\u001b[0;31m:\u001b[0m 2\n"
     ]
    },
    {
     "name": "stderr",
     "output_type": "stream",
     "text": [
      "/Users/kokubun/.pyenv/versions/3.6.2/envs/tensorflow/lib/python3.6/site-packages/IPython/core/interactiveshell.py:2969: UserWarning: To exit: use 'exit', 'quit', or Ctrl-D.\n",
      "  warn(\"To exit: use 'exit', 'quit', or Ctrl-D.\", stacklevel=1)\n"
     ]
    }
   ],
   "source": [
    "train()"
   ]
  }
 ],
 "metadata": {
  "kernelspec": {
   "display_name": "Python 3",
   "language": "python",
   "name": "python3"
  },
  "language_info": {
   "codemirror_mode": {
    "name": "ipython",
    "version": 3
   },
   "file_extension": ".py",
   "mimetype": "text/x-python",
   "name": "python",
   "nbconvert_exporter": "python",
   "pygments_lexer": "ipython3",
   "version": "3.6.2"
  }
 },
 "nbformat": 4,
 "nbformat_minor": 2
}
