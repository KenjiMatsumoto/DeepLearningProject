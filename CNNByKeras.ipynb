{
 "cells": [
  {
   "cell_type": "code",
   "execution_count": 21,
   "metadata": {},
   "outputs": [],
   "source": [
    "# import \n",
    "from keras.datasets import mnist\n",
    "from sklearn.model_selection import train_test_split\n",
    "from keras.models import Model\n",
    "from keras.layers import Conv2D, MaxPooling2D, Dropout, Input, Dense, Flatten"
   ]
  },
  {
   "cell_type": "code",
   "execution_count": 22,
   "metadata": {},
   "outputs": [],
   "source": [
    "# mnistデータの取得\n",
    "(x_train, y_train), (x_test, y_test) = mnist.load_data()\n",
    "x_train1, x_vaild, y_train1, y_valid = train_test_split(x_train, y_train, test_size=0.175)"
   ]
  },
  {
   "cell_type": "code",
   "execution_count": 25,
   "metadata": {},
   "outputs": [
    {
     "name": "stderr",
     "output_type": "stream",
     "text": [
      "/Users/kokubun/.pyenv/versions/3.6.2/envs/tensorflow/lib/python3.6/site-packages/ipykernel_launcher.py:16: UserWarning: Update your `Model` call to the Keras 2 API: `Model(inputs=Tensor(\"in..., outputs=Tensor(\"de...)`\n",
      "  app.launch_new_instance()\n"
     ]
    }
   ],
   "source": [
    "# model作成 CNNByChainerと同じ層構成にする\n",
    "input = Input((28, 28, 1))\n",
    "# 畳み込み層の実装\n",
    "cnn = Conv2D(32, kernel_size=(3, 3), padding='same', activation='sigmoid', input_shape=(28, 28, 1))(input)\n",
    "cnn = MaxPooling2D(pool_size=(2, 2), strides=(1, 1))(cnn)\n",
    "cnn = Conv2D(64, (3, 3), padding='same', activation='sigmoid')(cnn)\n",
    "cnn = MaxPooling2D(pool_size=(2, 2), strides=(1, 1))(cnn)\n",
    "cnn = Conv2D(128, (3, 3), padding='same', activation='sigmoid')(cnn)\n",
    "cnn = MaxPooling2D(pool_size=(2, 2), strides=(1, 1))(cnn)\n",
    "cnn = Conv2D(128, (3, 3), padding='same', activation='sigmoid')(cnn)\n",
    "# 入力を平滑化する層（いわゆるデータをフラット化する層、例えば4次元配列を1次元配列に変換するなど）\n",
    "fc = Flatten()(cnn)\n",
    "# denseは全結合層\n",
    "fc = Dense(1000, activation='sigmoid')(fc)\n",
    "softmax = Dense(10, activation='softmax')(fc)\n",
    "model = Model(input=input, output=softmax)\n"
   ]
  },
  {
   "cell_type": "code",
   "execution_count": null,
   "metadata": {},
   "outputs": [],
   "source": []
  }
 ],
 "metadata": {
  "kernelspec": {
   "display_name": "Python 3",
   "language": "python",
   "name": "python3"
  },
  "language_info": {
   "codemirror_mode": {
    "name": "ipython",
    "version": 3
   },
   "file_extension": ".py",
   "mimetype": "text/x-python",
   "name": "python",
   "nbconvert_exporter": "python",
   "pygments_lexer": "ipython3",
   "version": "3.6.2"
  }
 },
 "nbformat": 4,
 "nbformat_minor": 2
}
