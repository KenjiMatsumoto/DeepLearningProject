{
  "nbformat": 4,
  "nbformat_minor": 0,
  "metadata": {
    "colab": {
      "name": "CNNByKeras.ipynb",
      "version": "0.3.2",
      "provenance": []
    },
    "kernelspec": {
      "name": "python3",
      "display_name": "Python 3"
    },
    "accelerator": "GPU"
  },
  "cells": [
    {
      "metadata": {
        "colab_type": "code",
        "id": "ySgemeTB7H_T",
        "colab": {
          "base_uri": "https://localhost:8080/",
          "height": 34
        },
        "outputId": "e4fb0037-1084-4dab-f957-a6bd478c78b6"
      },
      "cell_type": "code",
      "source": [
        "# import \n",
        "from keras.datasets import mnist\n",
        "from sklearn.model_selection import train_test_split\n",
        "from keras.models import Model\n",
        "from keras.layers import Conv2D, MaxPooling2D, Dropout, Input, Dense, Flatten\n",
        "from keras.optimizers import Adam\n",
        "from keras.losses import categorical_crossentropy\n",
        "from keras.utils import to_categorical\n",
        "import argparse\n",
        "import numpy as np"
      ],
      "execution_count": 1,
      "outputs": [
        {
          "output_type": "stream",
          "text": [
            "Using TensorFlow backend.\n"
          ],
          "name": "stderr"
        }
      ]
    },
    {
      "metadata": {
        "colab_type": "code",
        "id": "4ZvLjJNE7H_X",
        "colab": {}
      },
      "cell_type": "code",
      "source": [
        "# model作成 CNNByChainerと同じ層構成にする\n",
        "def create_CNN_model(input_shape=(28, 28, 1), class_num=10):\n",
        "    input = Input((28, 28, 1))\n",
        "    kernel_size = (3, 3)\n",
        "    max_pool_size = (2, 2)\n",
        "    # 畳み込み層の実装\n",
        "    # 1層目\n",
        "    cnn = Conv2D(32, kernel_size=kernel_size, padding='same', strides=(1, 1), activation='sigmoid', input_shape=(28, 28, 1))(input)\n",
        "    cnn = MaxPooling2D(pool_size=max_pool_size, strides=(2, 2))(cnn)\n",
        "    cnn = Conv2D(64, kernel_size, padding='same', strides=(1, 1), activation='sigmoid')(cnn)\n",
        "    cnn = MaxPooling2D(pool_size=max_pool_size, strides=(2, 2))(cnn)\n",
        "    cnn = Conv2D(128, kernel_size, padding='same', strides=(1, 1), activation='sigmoid')(cnn)\n",
        "    cnn = MaxPooling2D(pool_size=max_pool_size, strides=(2, 2))(cnn)\n",
        "    cnn = Conv2D(128, kernel_size, padding='same', strides=(1, 1), activation='sigmoid')(cnn)\n",
        "    # 入力を平滑化する層（いわゆるデータをフラット化する層、例えば4次元配列を1次元配列に変換するなど）\n",
        "    fc = Flatten()(cnn)\n",
        "    # denseは全結合層\n",
        "    fc = Dense(1000, activation='sigmoid')(fc)\n",
        "    softmax = Dense(10, activation='softmax')(fc)\n",
        "    model = Model(input=input, output=softmax)\n",
        "    \n",
        "    return model\n",
        "\n",
        "# 全体の正解率を算出\n",
        "def predict_accuracy(x_batch, y_batch, model):\n",
        "    # 予測確率\n",
        "    preds = model.predict(x_batch, verbose=0)\n",
        "    batch_size = len(x_batch)\n",
        "    count = 0\n",
        "    # y(正解の値)とpred(予測の値)を比較\n",
        "    for (y, pred) in zip(y_batch, preds):\n",
        "        # 正解かどうかをチェックし、正解した場合カウントする\n",
        "        if np.argmax(y) == np.argmax(pred):\n",
        "            count += 1\n",
        "    print('acc ', (count/batch_size))\n",
        "\n",
        "def train():\n",
        "\n",
        "    model = create_CNN_model()\n",
        "    # mnistデータの取得\n",
        "    (x_train, y_train), (x_test, y_test) = mnist.load_data()\n",
        "    x_train1, x_valid, y_train1, y_valid = train_test_split(x_train, y_train, test_size=0.175)\n",
        "    # グレースケールの画像で28×28なので28×28×1にreshapeする\n",
        "    x_train = x_train.reshape(x_train.shape[0], 28, 28, 1)\n",
        "    x_valid = x_valid.reshape(x_valid.shape[0], 28, 28, 1)\n",
        "    x_test = x_test.reshape(x_test.shape[0], 28, 28, 1)\n",
        "    \n",
        "    x_train = x_train.astype('float32')\n",
        "    x_valid = x_valid.astype('float32')\n",
        "    x_test = x_test.astype('float32')\n",
        "    x_train /= 255\n",
        "    x_valid /= 255\n",
        "    x_test /= 255\n",
        "\n",
        "    # one-hot vector形式に変換する\n",
        "    y_train = to_categorical(y_train, 10)\n",
        "    y_valid = to_categorical(y_valid, 10)\n",
        "    y_test = to_categorical(y_test, 10)\n",
        "    \n",
        "    model.compile(loss=categorical_crossentropy,\n",
        "                  optimizer=Adam(),  metrics=['accuracy'])\n",
        "    # 学習\n",
        "    model.fit(x_train, y_train, epochs=20, batch_size=128, verbose=1, validation_data=(x_valid, y_valid))\n",
        "    # 精度算出\n",
        "    score = model.evaluate(x_test, y_test, verbose=0)\n",
        "    print('Test loss:', score[0])\n",
        "    print('Test accuracy:', score[1])\n",
        "    predict_accuracy(x_test, y_test, model)"
      ],
      "execution_count": 0,
      "outputs": []
    },
    {
      "metadata": {
        "colab_type": "code",
        "id": "K3CL3NQw7H_Z",
        "outputId": "23d54f4e-a0b5-42b1-8919-2001ffc8c9f6",
        "colab": {
          "base_uri": "https://localhost:8080/",
          "height": 782
        }
      },
      "cell_type": "code",
      "source": [
        "train()"
      ],
      "execution_count": 7,
      "outputs": [
        {
          "output_type": "stream",
          "text": [
            "/usr/local/lib/python3.6/dist-packages/ipykernel_launcher.py:19: UserWarning: Update your `Model` call to the Keras 2 API: `Model(inputs=Tensor(\"in..., outputs=Tensor(\"de...)`\n"
          ],
          "name": "stderr"
        },
        {
          "output_type": "stream",
          "text": [
            "Train on 60000 samples, validate on 10500 samples\n",
            "Epoch 1/20\n",
            "60000/60000 [==============================] - 11s 176us/step - loss: 2.3330 - acc: 0.1019 - val_loss: 2.3347 - val_acc: 0.1008\n",
            "Epoch 2/20\n",
            "60000/60000 [==============================] - 10s 163us/step - loss: 2.3281 - acc: 0.1013 - val_loss: 2.3273 - val_acc: 0.1176\n",
            "Epoch 3/20\n",
            "60000/60000 [==============================] - 10s 164us/step - loss: 2.3251 - acc: 0.1042 - val_loss: 2.3281 - val_acc: 0.0993\n",
            "Epoch 4/20\n",
            "60000/60000 [==============================] - 10s 164us/step - loss: 2.3268 - acc: 0.1027 - val_loss: 2.3247 - val_acc: 0.0993\n",
            "Epoch 5/20\n",
            "60000/60000 [==============================] - 10s 164us/step - loss: 0.6554 - acc: 0.7665 - val_loss: 0.1342 - val_acc: 0.9568\n",
            "Epoch 6/20\n",
            "60000/60000 [==============================] - 10s 163us/step - loss: 0.1018 - acc: 0.9671 - val_loss: 0.0920 - val_acc: 0.9706\n",
            "Epoch 7/20\n",
            "60000/60000 [==============================] - 10s 164us/step - loss: 0.0736 - acc: 0.9765 - val_loss: 0.0687 - val_acc: 0.9788\n",
            "Epoch 8/20\n",
            "60000/60000 [==============================] - 10s 165us/step - loss: 0.0586 - acc: 0.9819 - val_loss: 0.0601 - val_acc: 0.9805\n",
            "Epoch 9/20\n",
            "60000/60000 [==============================] - 10s 164us/step - loss: 0.0476 - acc: 0.9848 - val_loss: 0.0333 - val_acc: 0.9906\n",
            "Epoch 10/20\n",
            "60000/60000 [==============================] - 10s 165us/step - loss: 0.0417 - acc: 0.9869 - val_loss: 0.0306 - val_acc: 0.9900\n",
            "Epoch 11/20\n",
            "60000/60000 [==============================] - 10s 163us/step - loss: 0.0346 - acc: 0.9886 - val_loss: 0.0256 - val_acc: 0.9915\n",
            "Epoch 12/20\n",
            "60000/60000 [==============================] - 10s 163us/step - loss: 0.0340 - acc: 0.9889 - val_loss: 0.0365 - val_acc: 0.9870\n",
            "Epoch 13/20\n",
            "60000/60000 [==============================] - 10s 163us/step - loss: 0.0278 - acc: 0.9912 - val_loss: 0.0186 - val_acc: 0.9940\n",
            "Epoch 14/20\n",
            "60000/60000 [==============================] - 10s 163us/step - loss: 0.0269 - acc: 0.9911 - val_loss: 0.0248 - val_acc: 0.9918\n",
            "Epoch 15/20\n",
            "60000/60000 [==============================] - 10s 164us/step - loss: 0.0212 - acc: 0.9931 - val_loss: 0.0148 - val_acc: 0.9952\n",
            "Epoch 16/20\n",
            "60000/60000 [==============================] - 10s 164us/step - loss: 0.0197 - acc: 0.9931 - val_loss: 0.0133 - val_acc: 0.9946\n",
            "Epoch 17/20\n",
            "60000/60000 [==============================] - 10s 164us/step - loss: 0.0183 - acc: 0.9937 - val_loss: 0.0200 - val_acc: 0.9932\n",
            "Epoch 18/20\n",
            "60000/60000 [==============================] - 10s 164us/step - loss: 0.0143 - acc: 0.9953 - val_loss: 0.0110 - val_acc: 0.9964\n",
            "Epoch 19/20\n",
            "60000/60000 [==============================] - 10s 164us/step - loss: 0.0157 - acc: 0.9950 - val_loss: 0.0251 - val_acc: 0.9901\n",
            "Epoch 20/20\n",
            "60000/60000 [==============================] - 10s 165us/step - loss: 0.0141 - acc: 0.9953 - val_loss: 0.0140 - val_acc: 0.9951\n",
            "Test loss: 0.041959020303332366\n",
            "Test accuracy: 0.9889\n",
            "acc  0.9889\n"
          ],
          "name": "stdout"
        }
      ]
    },
    {
      "metadata": {
        "colab_type": "code",
        "id": "WodkuBOz7H_e",
        "colab": {}
      },
      "cell_type": "code",
      "source": [
        ""
      ],
      "execution_count": 0,
      "outputs": []
    }
  ]
}