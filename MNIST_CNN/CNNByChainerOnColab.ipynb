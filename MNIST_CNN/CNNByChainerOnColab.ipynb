{
  "nbformat": 4,
  "nbformat_minor": 0,
  "metadata": {
    "colab": {
      "name": "CNNByChainerOnColab.ipynb",
      "version": "0.3.2",
      "provenance": [],
      "include_colab_link": true
    },
    "kernelspec": {
      "name": "python3",
      "display_name": "Python 3"
    },
    "accelerator": "GPU"
  },
  "cells": [
    {
      "cell_type": "markdown",
      "metadata": {
        "id": "view-in-github",
        "colab_type": "text"
      },
      "source": [
        "<a href=\"https://colab.research.google.com/github/KenjiMatsumoto/DeepLearningProject/blob/master/CNNByChainerOnColab.ipynb\" target=\"_parent\"><img src=\"https://colab.research.google.com/assets/colab-badge.svg\" alt=\"Open In Colab\"/></a>"
      ]
    },
    {
      "metadata": {
        "id": "MvQVfbn2Xntp",
        "colab_type": "code",
        "colab": {
          "base_uri": "https://localhost:8080/",
          "height": 221
        },
        "outputId": "db95cbf5-3460-4bad-aeb0-050af017030a"
      },
      "cell_type": "code",
      "source": [
        "%matplotlib inline\n",
        "# cupyのインストール\n",
        "!curl https://colab.chainer.org/install | sh -\n",
        "# chainerとその他必要なライブラリのインストール\n",
        "import matplotlib.pyplot as plt\n",
        "import numpy as np\n",
        "import pandas as pd\n",
        "import seaborn as sns\n",
        "import chainer\n",
        "import chutil\n",
        "\n",
        "import chainer.functions as F\n",
        "import chainer.links as L\n",
        "from chainer import Chain\n",
        "import chainer.optimizers as optimizers\n",
        "\n",
        "from chainer.datasets.mnist import get_mnist\n",
        "from chainer import optimizers, training\n",
        "from chainer.training import extensions\n",
        "\n",
        "# データセットがダウンロード済みでなければ、ダウンロードも行う\n",
        "train, test = get_mnist(withlabel=True, ndim=1)\n",
        "train, validation = chainer.datasets.split_dataset_random(train, 50000, seed=0)"
      ],
      "execution_count": 2,
      "outputs": [
        {
          "output_type": "stream",
          "text": [
            "  % Total    % Received % Xferd  Average Speed   Time    Time     Time  Current\n",
            "                                 Dload  Upload   Total   Spent    Left  Speed\n",
            "\r  0     0    0     0    0     0      0      0 --:--:-- --:--:-- --:--:--     0\r100  1379  100  1379    0     0  13519      0 --:--:-- --:--:-- --:--:-- 13519\n",
            "+ apt -y -q install cuda-libraries-dev-9-2\n",
            "Reading package lists...\n",
            "Building dependency tree...\n",
            "Reading state information...\n",
            "cuda-libraries-dev-9-2 is already the newest version (9.2.148-1).\n",
            "0 upgraded, 0 newly installed, 0 to remove and 10 not upgraded.\n",
            "+ pip install -q cupy-cuda92  chainer \n",
            "+ set +ex\n",
            "Installation succeeded!\n"
          ],
          "name": "stdout"
        }
      ]
    },
    {
      "metadata": {
        "id": "ZaToZhvLXyP2",
        "colab_type": "code",
        "colab": {}
      },
      "cell_type": "code",
      "source": [
        "class MyConvNet(Chain):\n",
        "    def __init__(self):\n",
        "        super(MyConvNet, self).__init__()\n",
        "        with self.init_scope():\n",
        "            # 畳み込み層の定義\n",
        "            # in_channels:Noneを指定しても動的にメモリ確保するので問題なく動作する\n",
        "            # out_channels:出力する配列のチャンネル数\n",
        "            # ksize:フィルタのサイズ（平行移動するフィルターの長さを指定）\n",
        "            # stride:入力データに対してstride分フィルターを適用していくパラメータを指定\n",
        "            # pad:イメージは画像データの周りにpadのサイズ分だけ空白を用意してそこに対してもフィルターを適用するようなイメージ\n",
        "            # dilate:今回の実装では設定していないが、飛び飛びにフィルターを適用するパラメータ\n",
        "            self.conv1 = L.Convolution2D(\n",
        "                in_channels=None, out_channels=32, ksize=3, stride=1, pad=1)\n",
        "            # 畳み込み層の定義２層目\n",
        "            self.conv2 = L.Convolution2D(\n",
        "                in_channels=None, out_channels=64, ksize=3, stride=1, pad=1)\n",
        "            # 畳み込み層の定義３層目\n",
        "            self.conv3 = L.Convolution2D(\n",
        "                in_channels=None, out_channels=128, ksize=3, stride=1, pad=1)\n",
        "            self.conv4 = L.Convolution2D(\n",
        "                in_channels=None, out_channels=128, ksize=3, stride=1, pad=1)\n",
        "            self.fc5 = L.Linear(None, 1000)\n",
        "            self.fc6 = L.Linear(None, 10)\n",
        "\n",
        "    def __call__(self, x):\n",
        "        h = F.sigmoid(self.conv1(x.reshape((-1, 1, 28, 28))))\n",
        "        h = F.max_pooling_2d(h, ksize=2, stride=2)\n",
        "        h = F.sigmoid(self.conv2(h))\n",
        "        h = F.max_pooling_2d(h, ksize=2, stride=2)\n",
        "        h = F.sigmoid(self.conv3(h))\n",
        "        h = F.max_pooling_2d(h, ksize=2, stride=2)\n",
        "        h = F.sigmoid(self.conv4(h))\n",
        "        h = F.sigmoid(self.fc5(h))\n",
        "        return self.fc6(h)"
      ],
      "execution_count": 0,
      "outputs": []
    },
    {
      "metadata": {
        "id": "F2Jgdom4YN15",
        "colab_type": "code",
        "colab": {}
      },
      "cell_type": "code",
      "source": [
        "def  train_and_validate(\n",
        "        model, optimizer, train, validation, n_epoch, batchsize, device=0):\n",
        "    \n",
        "    # 1. deviceがgpuであれば、gpuにモデルのデータを転送する\n",
        "    if device >= 0:\n",
        "        model.to_gpu(device)\n",
        "        \n",
        "    # 2. Optimizerを設定する\n",
        "    optimizer.setup(model)\n",
        "    \n",
        "    # 3. DatasetからIteratorを作成する\n",
        "    train_iter = chainer.iterators.SerialIterator(train, batchsize)\n",
        "    validation_iter = chainer.iterators.SerialIterator(\n",
        "        validation, batchsize, repeat=False, shuffle=False)\n",
        "    \n",
        "    # 4. Updater・Trainerを作成する\n",
        "    updater = training.StandardUpdater(train_iter, optimizer, device=device)\n",
        "    trainer = chainer.training.Trainer(updater, (n_epoch, 'epoch'), out='out')\n",
        "    \n",
        "    # 5. Trainerの機能を拡張する\n",
        "    trainer.extend(extensions.LogReport())\n",
        "    trainer.extend(extensions.Evaluator(validation_iter, model, device=device), name='val')\n",
        "    trainer.extend(extensions.PrintReport(\n",
        "        ['epoch', 'main/loss', 'main/accuracy', 'val/main/loss', 'val/main/accuracy', 'elapsed_time']))\n",
        "    trainer.extend(extensions.PlotReport(\n",
        "        ['main/loss', 'val/main/loss'],x_key='epoch', file_name='loss.png'))\n",
        "    trainer.extend(extensions.PlotReport(\n",
        "        ['main/accuracy', 'val/main/accuracy'], x_key='epoch', file_name='accuracy.png'))\n",
        "    trainer.extend(extensions.dump_graph('main/loss'))\n",
        "    \n",
        "    # 6. 訓練を開始する\n",
        "    trainer.run()"
      ],
      "execution_count": 0,
      "outputs": []
    },
    {
      "metadata": {
        "id": "mYbnCWtsYZ1H",
        "colab_type": "code",
        "colab": {
          "base_uri": "https://localhost:8080/",
          "height": 374
        },
        "outputId": "837c9d47-1a42-4cd0-ae04-571678f06bc5"
      },
      "cell_type": "code",
      "source": [
        "n_epoch = 20\n",
        "batchsize = 128\n",
        "\n",
        "model = MyConvNet()\n",
        "classifier_model = L.Classifier(model)\n",
        "optimizer = optimizers.Adam()\n",
        "train_and_validate(\n",
        "    classifier_model, optimizer, train, validation, n_epoch, batchsize)"
      ],
      "execution_count": 5,
      "outputs": [
        {
          "output_type": "stream",
          "text": [
            "epoch       main/loss   main/accuracy  val/main/loss  val/main/accuracy  elapsed_time\n",
            "\u001b[J1           2.33673     0.101103       2.32983        0.102156           16.7831       \n",
            "\u001b[J2           2.32215     0.105559       2.31557        0.102156           25.2438       \n",
            "\u001b[J3           1.24475     0.542208       0.2488         0.919007           33.6711       \n",
            "\u001b[J4           0.152454    0.951926       0.108259       0.967761           42.2736       \n",
            "\u001b[J5           0.0969116   0.969289       0.0811891      0.973497           50.765        \n",
            "\u001b[J6           0.0740883   0.976703       0.0715915      0.977551           59.2251       \n",
            "\u001b[J7           0.062551    0.97964        0.0635128      0.979826           67.8466       \n",
            "\u001b[J8           0.0522355   0.983994       0.05422        0.981903           76.1998       \n",
            "\u001b[J9           0.0462493   0.984835       0.0545997      0.983881           84.5439       \n",
            "\u001b[J10          0.0401194   0.987272       0.0449376      0.985166           93.5503       \n",
            "\u001b[J11          0.0349743   0.989042       0.0599055      0.980617           102.341       \n",
            "\u001b[J12          0.0306508   0.99009        0.0414602      0.987243           110.75        \n",
            "\u001b[J13          0.0287472   0.990789       0.0416398      0.98665            119.041       \n",
            "\u001b[J14          0.0239318   0.992588       0.0644321      0.979628           127.837       \n",
            "\u001b[J15          0.0239809   0.992227       0.0359041      0.989221           136.324       \n",
            "\u001b[J16          0.0179748   0.994271       0.0505025      0.986551           144.643       \n",
            "\u001b[J17          0.0200038   0.993067       0.0476005      0.986946           153.18        \n",
            "\u001b[J18          0.0139537   0.995544       0.0410331      0.98932            161.994       \n",
            "\u001b[J19          0.0149209   0.994732       0.0413935      0.988331           170.458       \n",
            "\u001b[J20          0.0117332   0.996104       0.0369696      0.989913           178.953       \n"
          ],
          "name": "stdout"
        }
      ]
    },
    {
      "metadata": {
        "id": "n0KH53y9aKX7",
        "colab_type": "code",
        "colab": {}
      },
      "cell_type": "code",
      "source": [
        ""
      ],
      "execution_count": 0,
      "outputs": []
    }
  ]
}